{
 "cells": [
  {
   "cell_type": "markdown",
   "metadata": {
    "toc": true
   },
   "source": [
    "<h1>Table of Contents<span class=\"tocSkip\"></span></h1>\n",
    "<div class=\"toc\"><ul class=\"toc-item\"><li><span><a href=\"#Ejercicio-bucle-While-1\" data-toc-modified-id=\"Ejercicio-bucle-While-1-1\"><span class=\"toc-item-num\">1&nbsp;&nbsp;</span>Ejercicio bucle While 1</a></span></li><li><span><a href=\"#Ejercicio-bucle-For-1\" data-toc-modified-id=\"Ejercicio-bucle-For-1-2\"><span class=\"toc-item-num\">2&nbsp;&nbsp;</span>Ejercicio bucle For 1</a></span></li><li><span><a href=\"#Ejercicio-funciones\" data-toc-modified-id=\"Ejercicio-funciones-3\"><span class=\"toc-item-num\">3&nbsp;&nbsp;</span>Ejercicio funciones</a></span></li></ul></div>"
   ]
  },
  {
   "cell_type": "markdown",
   "metadata": {},
   "source": [
    "![](https://www.saturdays.ai/images/logo.png)"
   ]
  },
  {
   "cell_type": "markdown",
   "metadata": {
    "id": "rXho2BSHUeIE"
   },
   "source": [
    "# Ejercicios sesión 2"
   ]
  },
  {
   "cell_type": "markdown",
   "metadata": {
    "id": "R8aNYM1KdkgT"
   },
   "source": [
    "## Ejercicio bucle While 1"
   ]
  },
  {
   "cell_type": "markdown",
   "metadata": {
    "id": "HdWRTtlIUj3Y"
   },
   "source": [
    "Utilizando un bucle while, crear un bucle que imprima en pantalla los 15 primeros numeros de la sucesion de Fibonacci.\n",
    "\n",
    "Recuerda: crear un contador para salir del bucle"
   ]
  },
  {
   "cell_type": "markdown",
   "metadata": {
    "id": "lWd1hnbbWW5o"
   },
   "source": [
    "\n",
    "\n",
    "![picture](data:image/jpeg;base64,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)\n",
    "\n"
   ]
  },
  {
   "cell_type": "code",
   "execution_count": null,
   "metadata": {
    "id": "o40P4ovMzEVO"
   },
   "outputs": [],
   "source": [
    "# Fibonacci\n",
    "a0 = 0\n",
    "a1 = 1"
   ]
  },
  {
   "cell_type": "code",
   "execution_count": null,
   "metadata": {
    "colab": {
     "base_uri": "https://localhost:8080/"
    },
    "id": "_n0I2o64U5SG",
    "outputId": "495a46fc-8b0d-479a-c812-75e2611ad583"
   },
   "outputs": [
    {
     "name": "stdout",
     "output_type": "stream",
     "text": [
      "1\n",
      "2\n",
      "3\n",
      "5\n",
      "8\n",
      "13\n",
      "21\n",
      "34\n",
      "55\n",
      "89\n",
      "144\n",
      "233\n",
      "377\n",
      "610\n",
      "987\n"
     ]
    }
   ],
   "source": [
    "count = 0\n",
    "while count < 15:\n",
    "  fib = a0 + a1\n",
    "  print(fib)\n",
    "  # update\n",
    "  a0 = a1\n",
    "  a1 = fib\n",
    "  count = count +1 "
   ]
  },
  {
   "cell_type": "markdown",
   "metadata": {
    "id": "TEY4lY9Mdqqj"
   },
   "source": [
    "## Ejercicio bucle For 1"
   ]
  },
  {
   "cell_type": "markdown",
   "metadata": {
    "id": "pKfOat1_VU0v"
   },
   "source": [
    "Y usando un bucle for?"
   ]
  },
  {
   "cell_type": "code",
   "execution_count": null,
   "metadata": {
    "colab": {
     "base_uri": "https://localhost:8080/"
    },
    "id": "MKDplYeLVIK9",
    "outputId": "454f7ff0-a98f-4257-ee5f-bb38d6205899"
   },
   "outputs": [
    {
     "name": "stdout",
     "output_type": "stream",
     "text": [
      "1\n",
      "2\n",
      "3\n",
      "5\n",
      "8\n",
      "13\n",
      "21\n",
      "34\n",
      "55\n",
      "89\n",
      "144\n",
      "233\n",
      "377\n",
      "610\n",
      "987\n"
     ]
    }
   ],
   "source": [
    "# Fibonacci\n",
    "a0 = 0\n",
    "a1 = 1\n",
    "\n",
    "for i in range(15):\n",
    "  fib = a1 + a0\n",
    "  print(fib)\n",
    "  # update\n",
    "  a0 = a1\n",
    "  a1 = fib"
   ]
  },
  {
   "cell_type": "markdown",
   "metadata": {
    "id": "T5uO2yzndi1B"
   },
   "source": [
    "## Ejercicio funciones"
   ]
  },
  {
   "cell_type": "markdown",
   "metadata": {
    "id": "KMqtItUyd51s"
   },
   "source": [
    "Este solo imprime en pantalla"
   ]
  },
  {
   "cell_type": "code",
   "execution_count": null,
   "metadata": {
    "id": "8tIFAkHJVj_d"
   },
   "outputs": [],
   "source": [
    "def fibonacci(n):\n",
    "  a0 = 0\n",
    "  a1 = 1\n",
    "\n",
    "  for i in range(n):\n",
    "    fib = a1 + a0\n",
    "    print(fib)\n",
    "    # update\n",
    "    a0 = a1\n",
    "    a1 = fib"
   ]
  },
  {
   "cell_type": "markdown",
   "metadata": {
    "id": "VC7T592td79j"
   },
   "source": [
    "Este devuelve una lista"
   ]
  },
  {
   "cell_type": "code",
   "execution_count": null,
   "metadata": {
    "id": "1DIv9fQTd-q3"
   },
   "outputs": [],
   "source": [
    "def fibonacci_list(n):\n",
    "  a0 = 0\n",
    "  a1 = 1\n",
    "  lista = [a0,a1]\n",
    "\n",
    "  for i in range(1,n):\n",
    "    fib = lista[i] + lista[i-1]\n",
    "    lista.append(fib)\n",
    "  return lista"
   ]
  },
  {
   "cell_type": "code",
   "execution_count": null,
   "metadata": {
    "id": "pgtcWvQweSAm"
   },
   "outputs": [],
   "source": [
    "mis_15 = fibonacci_list(15)"
   ]
  },
  {
   "cell_type": "code",
   "execution_count": null,
   "metadata": {
    "colab": {
     "base_uri": "https://localhost:8080/"
    },
    "id": "K2uHcFnbeVu1",
    "outputId": "22494932-b4f9-450d-b609-69a194df195c"
   },
   "outputs": [
    {
     "data": {
      "text/plain": [
       "[0, 1, 1, 2, 3, 5, 8, 13, 21, 34, 55, 89, 144, 233, 377, 610]"
      ]
     },
     "execution_count": 7,
     "metadata": {
      "tags": []
     },
     "output_type": "execute_result"
    }
   ],
   "source": [
    "mis_15"
   ]
  },
  {
   "cell_type": "code",
   "execution_count": null,
   "metadata": {
    "colab": {
     "base_uri": "https://localhost:8080/"
    },
    "id": "-VgbuCV2eWuV",
    "outputId": "dc6e3b48-db7c-4e9d-aa08-20b5a9e5baa5"
   },
   "outputs": [
    {
     "data": {
      "text/plain": [
       "16"
      ]
     },
     "execution_count": 8,
     "metadata": {
      "tags": []
     },
     "output_type": "execute_result"
    }
   ],
   "source": [
    "len(mis_15)"
   ]
  },
  {
   "cell_type": "code",
   "execution_count": null,
   "metadata": {
    "id": "R_l2dDsceYfF"
   },
   "outputs": [],
   "source": []
  }
 ],
 "metadata": {
  "colab": {
   "name": "Copy of Ejercicios_Sesión_2.ipynb",
   "provenance": [],
   "toc_visible": true
  },
  "kernelspec": {
   "display_name": "Python 3",
   "language": "python",
   "name": "python3"
  },
  "language_info": {
   "codemirror_mode": {
    "name": "ipython",
    "version": 3
   },
   "file_extension": ".py",
   "mimetype": "text/x-python",
   "name": "python",
   "nbconvert_exporter": "python",
   "pygments_lexer": "ipython3",
   "version": "3.8.3rc1"
  },
  "nbTranslate": {
   "displayLangs": [
    "*"
   ],
   "hotkey": "alt-t",
   "langInMainMenu": true,
   "sourceLang": "en",
   "targetLang": "fr",
   "useGoogleTranslate": true
  },
  "toc": {
   "base_numbering": 1,
   "nav_menu": {},
   "number_sections": true,
   "sideBar": false,
   "skip_h1_title": true,
   "title_cell": "Table of Contents",
   "title_sidebar": "Contents",
   "toc_cell": true,
   "toc_position": {},
   "toc_section_display": true,
   "toc_window_display": false
  }
 },
 "nbformat": 4,
 "nbformat_minor": 1
}
