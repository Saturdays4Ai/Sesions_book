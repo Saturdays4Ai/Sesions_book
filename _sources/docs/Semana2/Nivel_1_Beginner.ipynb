{
 "cells": [
  {
   "cell_type": "markdown",
   "metadata": {
    "toc": true
   },
   "source": [
    "<h1>Table of Contents<span class=\"tocSkip\"></span></h1>\n",
    "<div class=\"toc\"><ul class=\"toc-item\"><li><span><a href=\"#Nivel-1-Beginner\" data-toc-modified-id=\"Nivel-1-Beginner-1\"><span class=\"toc-item-num\">1&nbsp;&nbsp;</span>Nivel 1 Beginner</a></span></li><li><span><a href=\"#Nivel-2-Intermediate\" data-toc-modified-id=\"Nivel-2-Intermediate-2\"><span class=\"toc-item-num\">2&nbsp;&nbsp;</span>Nivel 2 Intermediate</a></span></li><li><span><a href=\"#Pregunta-1\" data-toc-modified-id=\"Pregunta-1-3\"><span class=\"toc-item-num\">3&nbsp;&nbsp;</span>Pregunta 1</a></span><ul class=\"toc-item\"><li><span><a href=\"#Solución\" data-toc-modified-id=\"Solución-3.1\"><span class=\"toc-item-num\">3.1&nbsp;&nbsp;</span>Solución</a></span></li></ul></li><li><span><a href=\"#Pregunta-2\" data-toc-modified-id=\"Pregunta-2-4\"><span class=\"toc-item-num\">4&nbsp;&nbsp;</span>Pregunta 2</a></span><ul class=\"toc-item\"><li><span><a href=\"#Solución\" data-toc-modified-id=\"Solución-4.1\"><span class=\"toc-item-num\">4.1&nbsp;&nbsp;</span>Solución</a></span></li></ul></li><li><span><a href=\"#Pregunta-3\" data-toc-modified-id=\"Pregunta-3-5\"><span class=\"toc-item-num\">5&nbsp;&nbsp;</span>Pregunta 3</a></span><ul class=\"toc-item\"><li><span><a href=\"#Solución\" data-toc-modified-id=\"Solución-5.1\"><span class=\"toc-item-num\">5.1&nbsp;&nbsp;</span>Solución</a></span></li><li><span><a href=\"#Solución\" data-toc-modified-id=\"Solución-5.2\"><span class=\"toc-item-num\">5.2&nbsp;&nbsp;</span>Solución</a></span></li></ul></li><li><span><a href=\"#Pregunta-5\" data-toc-modified-id=\"Pregunta-5-6\"><span class=\"toc-item-num\">6&nbsp;&nbsp;</span>Pregunta 5</a></span><ul class=\"toc-item\"><li><span><a href=\"#Nivel-1\" data-toc-modified-id=\"Nivel-1-6.1\"><span class=\"toc-item-num\">6.1&nbsp;&nbsp;</span>Nivel 1</a></span></li><li><span><a href=\"#Solución\" data-toc-modified-id=\"Solución-6.2\"><span class=\"toc-item-num\">6.2&nbsp;&nbsp;</span>Solución</a></span></li></ul></li><li><span><a href=\"#Pregunta-6\" data-toc-modified-id=\"Pregunta-6-7\"><span class=\"toc-item-num\">7&nbsp;&nbsp;</span>Pregunta 6</a></span><ul class=\"toc-item\"><li><span><a href=\"#Nivel-1\" data-toc-modified-id=\"Nivel-1-7.1\"><span class=\"toc-item-num\">7.1&nbsp;&nbsp;</span>Nivel 1</a></span></li><li><span><a href=\"#Solución\" data-toc-modified-id=\"Solución-7.2\"><span class=\"toc-item-num\">7.2&nbsp;&nbsp;</span>Solución</a></span></li></ul></li></ul></div>"
   ]
  },
  {
   "cell_type": "markdown",
   "metadata": {
    "id": "O5GhrY_PezIz"
   },
   "source": [
    "![](https://www.saturdays.ai/images/logo.png)"
   ]
  },
  {
   "cell_type": "markdown",
   "metadata": {},
   "source": [
    "# Ejercicios Nivel 1"
   ]
  },
  {
   "cell_type": "markdown",
   "metadata": {
    "id": "e_CzC8SF4n9k"
   },
   "source": [
    "\n",
    "### Nivel 1 Beginner\n",
    "El nivel principiante es para alguien que su primera vez en un curso introductorio de Python. Puedes resolver algunos problemas con 1 o 2 clases o funciones de Python. Normalmente, las respuestas podrían encontrarse directamente en los libros de texto.\n",
    "\n",
    "### Nivel 2 Intermediate\n",
    "El nivel intermedi es para alguien que acaba de aprender Python, pero que ya tiene una experiencia de programación relativamente fuerte de antes. Deberías ser capaz de resolver problemas que pueden implicar  3 clases o funciones de Python. Las respuestas ya no se pueden encontrar directamente en los libros de texto.\n"
   ]
  },
  {
   "cell_type": "markdown",
   "metadata": {
    "id": "Op1kvdNZ5GiD"
   },
   "source": [
    "### Pregunta 1\n",
    "Nivel 1\n",
    "\n",
    "Enunciado: Escriba un programa que encuentre todos esos números que son divisibles por 7 pero no son un múltiplo de 5, entre 2000 y 3200 (ambos incluidos). Los números obtenidos deben ser impresos en una secuencia separada por comas en una sola línea.\n",
    "\n",
    "\n",
    "\n",
    "\n",
    "Pista: Considera usar el método range(#begin, #end)"
   ]
  },
  {
   "cell_type": "code",
   "execution_count": null,
   "metadata": {
    "id": "RWJubFDB5A5O"
   },
   "outputs": [],
   "source": []
  },
  {
   "cell_type": "markdown",
   "metadata": {
    "id": "rVpbW9eA5Vr4"
   },
   "source": [
    "#### Solución"
   ]
  },
  {
   "cell_type": "code",
   "execution_count": null,
   "metadata": {
    "colab": {
     "base_uri": "https://localhost:8080/"
    },
    "id": "GLjyaGV75RRe",
    "outputId": "b518db23-19f6-4a5a-a901-e336909ab87e"
   },
   "outputs": [
    {
     "name": "stdout",
     "output_type": "stream",
     "text": [
      "2002,2009,2016,2023,2037,2044,2051,2058,2072,2079,2086,2093,2107,2114,2121,2128,2142,2149,2156,2163,2177,2184,2191,2198,2212,2219,2226,2233,2247,2254,2261,2268,2282,2289,2296,2303,2317,2324,2331,2338,2352,2359,2366,2373,2387,2394,2401,2408,2422,2429,2436,2443,2457,2464,2471,2478,2492,2499,2506,2513,2527,2534,2541,2548,2562,2569,2576,2583,2597,2604,2611,2618,2632,2639,2646,2653,2667,2674,2681,2688,2702,2709,2716,2723,2737,2744,2751,2758,2772,2779,2786,2793,2807,2814,2821,2828,2842,2849,2856,2863,2877,2884,2891,2898,2912,2919,2926,2933,2947,2954,2961,2968,2982,2989,2996,3003,3017,3024,3031,3038,3052,3059,3066,3073,3087,3094,3101,3108,3122,3129,3136,3143,3157,3164,3171,3178,3192,3199\n"
     ]
    }
   ],
   "source": [
    "l=[]\n",
    "for i in range(2000, 3201):\n",
    "    if (i%7==0) and (i%5!=0):\n",
    "        l.append(str(i))\n",
    "\n",
    "print(','.join(l))"
   ]
  },
  {
   "cell_type": "markdown",
   "metadata": {
    "id": "j-855drY5i-j"
   },
   "source": [
    "### Pregunta 2\n",
    "Nivel 1\n",
    "\n",
    "Enunciado: Escribir un programa que pueda calcular el factorial de un número dado. Los resultados deben imprimirse en una secuencia separada por comas en una sola línea. Supongamos que se suministra la siguiente entrada al programa: 8 Entonces, la salida debe ser: 40320\n",
    "\n",
    "Pista: En caso de que se suministren datos de entrada a la pregunta, debe asumirse que se trata de una entrada de consola."
   ]
  },
  {
   "cell_type": "code",
   "execution_count": null,
   "metadata": {
    "id": "hMN1-SFb5mCj"
   },
   "outputs": [],
   "source": []
  },
  {
   "cell_type": "markdown",
   "metadata": {
    "id": "WqXwZuWNTWKZ"
   },
   "source": [
    "#### Solución\n"
   ]
  },
  {
   "cell_type": "code",
   "execution_count": null,
   "metadata": {
    "colab": {
     "base_uri": "https://localhost:8080/"
    },
    "id": "U7c2iuQsTZQu",
    "outputId": "1c2c849a-d1e3-4186-8d7e-5c41e9383e3e"
   },
   "outputs": [
    {
     "name": "stdout",
     "output_type": "stream",
     "text": [
      "8\n",
      "40320\n"
     ]
    }
   ],
   "source": [
    "def fact(x):\n",
    "    if x == 0:\n",
    "        return 1\n",
    "    return x * fact(x - 1)\n",
    "\n",
    "x=int(input())\n",
    "print(fact(x))"
   ]
  },
  {
   "cell_type": "markdown",
   "metadata": {
    "id": "DfdE3CF_TdhI"
   },
   "source": [
    "### Pregunta 3\n",
    "Nivel 1\n",
    "\n",
    "Enunciado: Con un número entero n dado, escribe un programa para generar un diccionario que contenga (i, i*i) tal que sea un número entero entre 1 y n (ambos incluidos). Luego el programa debe imprimir el diccionario. Supongamos que se suministra la siguiente entrada al programa: 8 Entonces, la salida debe ser: {1: 1, 2: 4, 3: 9, 4: 16, 5: 25, 6: 36, 7: 49, 8: 64}\n",
    "\n",
    "Pista: En caso de que se suministren datos de entrada a la pregunta, debe asumirse que se trata de una entrada de consola. Considere el uso de dict()"
   ]
  },
  {
   "cell_type": "code",
   "execution_count": null,
   "metadata": {
    "id": "Q-zKD7u8TbSE"
   },
   "outputs": [],
   "source": []
  },
  {
   "cell_type": "markdown",
   "metadata": {
    "id": "o0WalapdT8Je"
   },
   "source": [
    "#### Solución"
   ]
  },
  {
   "cell_type": "code",
   "execution_count": null,
   "metadata": {
    "colab": {
     "base_uri": "https://localhost:8080/"
    },
    "id": "Hd5jl5n7T9Sy",
    "outputId": "19102a8e-ee53-475a-c53b-576bb27041d6"
   },
   "outputs": [
    {
     "name": "stdout",
     "output_type": "stream",
     "text": [
      "3\n",
      "{1: 1, 2: 4, 3: 9}\n"
     ]
    }
   ],
   "source": [
    "n=int(input())\n",
    "d=dict()\n",
    "for i in range(1,n+1):\n",
    "    d[i]=i*i\n",
    "\n",
    "print(d)"
   ]
  },
  {
   "cell_type": "code",
   "execution_count": null,
   "metadata": {
    "id": "l3Pq2nl8T933"
   },
   "outputs": [],
   "source": []
  },
  {
   "cell_type": "markdown",
   "metadata": {
    "id": "LJVnLO6FUJLe"
   },
   "source": [
    "###Pregunta 4\n",
    "####Nivel 1\n",
    "\n",
    "Enunciado: Pregunta: Escriba un programa que acepte una secuencia de números separados por comas desde la consola y genere una lista y una tupla que contenga cada número. Supongamos que la siguiente entrada es suministrada al programa: 34,67,55,33,12,98 Entonces, la salida debe ser: ['34', '67', '55', '33', '12', '98'] ('34', '67', '55', '33', '12', '98')\n",
    "\n",
    "Pista: En caso de que se suministren datos de entrada a la pregunta, debe asumirse que se trata de una entrada de consola. El método tuple() puede convertir la lista en tuple"
   ]
  },
  {
   "cell_type": "code",
   "execution_count": null,
   "metadata": {
    "id": "8QKb8-TxUbN0"
   },
   "outputs": [],
   "source": []
  },
  {
   "cell_type": "markdown",
   "metadata": {
    "id": "lmby5v3xUe6U"
   },
   "source": [
    "#### Solución"
   ]
  },
  {
   "cell_type": "code",
   "execution_count": null,
   "metadata": {
    "colab": {
     "base_uri": "https://localhost:8080/"
    },
    "id": "Aiy_xUHKUf0j",
    "outputId": "21b0aa19-73b3-481a-ed0d-078a6567351b"
   },
   "outputs": [
    {
     "name": "stdout",
     "output_type": "stream",
     "text": [
      "3\n",
      "['3']\n",
      "('3',)\n"
     ]
    }
   ],
   "source": [
    "values=input()\n",
    "l=values.split(\",\")\n",
    "t=tuple(l)\n",
    "print(l)\n",
    "print(t)"
   ]
  },
  {
   "cell_type": "markdown",
   "metadata": {
    "id": "Ur755EauVOJz"
   },
   "source": [
    "### Pregunta 5\n",
    "#### Nivel 1\n",
    "Enunciado: Define una clase que tiene al menos dos métodos: getString: para obtener una cadena de la entrada de la consola printString: para imprimir la cadena en mayúsculas. También incluye una función de prueba simple para probar los métodos de la clase.\n",
    "\n",
    "\n",
    "\n",
    "Pista: Usar el método init para construir algunos parámetros"
   ]
  },
  {
   "cell_type": "code",
   "execution_count": null,
   "metadata": {
    "id": "OI_C1iScUhe4"
   },
   "outputs": [],
   "source": []
  },
  {
   "cell_type": "markdown",
   "metadata": {
    "id": "jQ_lSnqvVePb"
   },
   "source": [
    "#### Solución"
   ]
  },
  {
   "cell_type": "code",
   "execution_count": null,
   "metadata": {
    "colab": {
     "base_uri": "https://localhost:8080/"
    },
    "id": "RvUXQm7bVfjD",
    "outputId": "5e78a3a8-ddcd-4f9c-dc01-095731e055ae"
   },
   "outputs": [
    {
     "name": "stdout",
     "output_type": "stream",
     "text": [
      "hola\n",
      "HOLA\n"
     ]
    }
   ],
   "source": [
    "class InputOutString(object):\n",
    "    def __init__(self):\n",
    "        self.s = \"\"\n",
    "\n",
    "    def getString(self):\n",
    "        self.s = input()\n",
    "    \n",
    "    def printString(self):\n",
    "        print(self.s.upper())\n",
    "\n",
    "strObj = InputOutString()\n",
    "strObj.getString()\n",
    "strObj.printString()"
   ]
  },
  {
   "cell_type": "markdown",
   "metadata": {
    "id": "1DwDsBV6Vn9i"
   },
   "source": [
    "### Pregunta 6\n",
    "#### Nivel 1\n",
    "Enunciado: Escriba un programa que calcule e imprima el valor según la fórmula dada: Q = Raíz cuadrada de [(2 * C * D)/H] A continuación los valores fijos de C y H: C es 50. H es 30. D es la variable cuyos valores deben ser introducidos en su programa en una secuencia separada por comas. Ejemplo Supongamos que la siguiente secuencia de entrada separada por comas se da al programa: 100,150,180 La salida del programa debe ser: 18,22,24\n",
    "\n",
    "Pista: Si la salida recibida está en forma decimal, debe redondearse a su valor más cercano (por ejemplo, si la salida recibida es 26,0, debe imprimirse como 26).\n",
    "\n"
   ]
  },
  {
   "cell_type": "code",
   "execution_count": null,
   "metadata": {
    "id": "DGSzDov5V5dc"
   },
   "outputs": [],
   "source": []
  },
  {
   "cell_type": "markdown",
   "metadata": {
    "id": "hf7TEKjpV6xW"
   },
   "source": [
    "#### Solución "
   ]
  },
  {
   "cell_type": "code",
   "execution_count": null,
   "metadata": {
    "colab": {
     "base_uri": "https://localhost:8080/"
    },
    "id": "0n309sofV7yR",
    "outputId": "4e43074d-4591-4666-da94-04b00cda96c3"
   },
   "outputs": [
    {
     "name": "stdout",
     "output_type": "stream",
     "text": [
      "4\n",
      "4\n"
     ]
    }
   ],
   "source": [
    "import math\n",
    "c=50\n",
    "h=30\n",
    "value = []\n",
    "items=[x for x in input().split(',')]\n",
    "for d in items:\n",
    "    value.append(str(int(round(math.sqrt(2*c*float(d)/h)))))\n",
    "\n",
    "print(','.join(value))"
   ]
  }
 ],
 "metadata": {
  "colab": {
   "collapsed_sections": [],
   "name": "Nivel 1 Beginner.ipynb",
   "provenance": []
  },
  "kernelspec": {
   "display_name": "Python 3",
   "language": "python",
   "name": "python3"
  },
  "language_info": {
   "codemirror_mode": {
    "name": "ipython",
    "version": 3
   },
   "file_extension": ".py",
   "mimetype": "text/x-python",
   "name": "python",
   "nbconvert_exporter": "python",
   "pygments_lexer": "ipython3",
   "version": "3.8.3rc1"
  },
  "nbTranslate": {
   "displayLangs": [
    "*"
   ],
   "hotkey": "alt-t",
   "langInMainMenu": true,
   "sourceLang": "en",
   "targetLang": "fr",
   "useGoogleTranslate": true
  },
  "toc": {
   "base_numbering": 1,
   "nav_menu": {},
   "number_sections": true,
   "sideBar": false,
   "skip_h1_title": true,
   "title_cell": "Table of Contents",
   "title_sidebar": "Contents",
   "toc_cell": true,
   "toc_position": {},
   "toc_section_display": true,
   "toc_window_display": false
  }
 },
 "nbformat": 4,
 "nbformat_minor": 1
}
