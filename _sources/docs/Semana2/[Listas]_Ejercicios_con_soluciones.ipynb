{
 "cells": [
  {
   "cell_type": "markdown",
   "metadata": {
    "toc": true
   },
   "source": [
    "<h1>Table of Contents<span class=\"tocSkip\"></span></h1>\n",
    "<div class=\"toc\"><ul class=\"toc-item\"><li><span><a href=\"#Ejercicio-1\" data-toc-modified-id=\"Ejercicio-1-1\"><span class=\"toc-item-num\">1&nbsp;&nbsp;</span>Ejercicio 1</a></span><ul class=\"toc-item\"><li><span><a href=\"#Solución\" data-toc-modified-id=\"Solución-1.1\"><span class=\"toc-item-num\">1.1&nbsp;&nbsp;</span>Solución</a></span></li></ul></li><li><span><a href=\"#Ejercicio-2\" data-toc-modified-id=\"Ejercicio-2-2\"><span class=\"toc-item-num\">2&nbsp;&nbsp;</span>Ejercicio 2</a></span><ul class=\"toc-item\"><li><span><a href=\"#Solución\" data-toc-modified-id=\"Solución-2.1\"><span class=\"toc-item-num\">2.1&nbsp;&nbsp;</span>Solución</a></span></li></ul></li><li><span><a href=\"#Ejercicio-3\" data-toc-modified-id=\"Ejercicio-3-3\"><span class=\"toc-item-num\">3&nbsp;&nbsp;</span>Ejercicio 3</a></span><ul class=\"toc-item\"><li><span><a href=\"#Solución\" data-toc-modified-id=\"Solución-3.1\"><span class=\"toc-item-num\">3.1&nbsp;&nbsp;</span>Solución</a></span></li></ul></li><li><span><a href=\"#Ejercicio-4\" data-toc-modified-id=\"Ejercicio-4-4\"><span class=\"toc-item-num\">4&nbsp;&nbsp;</span>Ejercicio 4</a></span><ul class=\"toc-item\"><li><span><a href=\"#Solución\" data-toc-modified-id=\"Solución-4.1\"><span class=\"toc-item-num\">4.1&nbsp;&nbsp;</span>Solución</a></span></li></ul></li><li><span><a href=\"#Ejercicio-5\" data-toc-modified-id=\"Ejercicio-5-5\"><span class=\"toc-item-num\">5&nbsp;&nbsp;</span>Ejercicio 5</a></span><ul class=\"toc-item\"><li><span><a href=\"#Solución\" data-toc-modified-id=\"Solución-5.1\"><span class=\"toc-item-num\">5.1&nbsp;&nbsp;</span>Solución</a></span></li></ul></li></ul></div>"
   ]
  },
  {
   "cell_type": "markdown",
   "metadata": {
    "id": "mzqbsL3qmfJj"
   },
   "source": [
    "![](https://www.saturdays.ai/images/logo.png)"
   ]
  },
  {
   "cell_type": "markdown",
   "metadata": {},
   "source": [
    "# Listas"
   ]
  },
  {
   "cell_type": "markdown",
   "metadata": {
    "id": "JYx4gB0mmkJt"
   },
   "source": [
    "### Ejercicio 1\n",
    "\n",
    "Escribir un programa que almacene las asignaturas de un curso (por ejemplo Matemáticas, Física, Química, Historia y Lengua) en una lista y la muestre por pantalla."
   ]
  },
  {
   "cell_type": "markdown",
   "metadata": {
    "id": "G7xI_O9KmkJv"
   },
   "source": [
    "#### Solución"
   ]
  },
  {
   "cell_type": "code",
   "execution_count": null,
   "metadata": {
    "id": "OrmF5iwKmkJw",
    "outputId": "1fb7a566-ac72-415c-9d4f-2543de9960a9"
   },
   "outputs": [
    {
     "name": "stdout",
     "output_type": "stream",
     "text": [
      "['Matemáticas', 'Física', 'Química', 'Historia', 'Lengua']\n"
     ]
    }
   ],
   "source": [
    "subjects = [\"Matemáticas\", \"Física\", \"Química\", \"Historia\", \"Lengua\"]\n",
    "print(subjects)"
   ]
  },
  {
   "cell_type": "markdown",
   "metadata": {
    "id": "E5UdvUr-mrRg"
   },
   "source": [
    "### Ejercicio 2\n",
    "\n",
    "Escribir un programa que almacene las asignaturas de un curso (por ejemplo Matemáticas, Física, Química, Historia y Lengua) en una lista y la muestre por pantalla."
   ]
  },
  {
   "cell_type": "markdown",
   "metadata": {
    "id": "ZVb6DimpmrRi"
   },
   "source": [
    "#### Solución"
   ]
  },
  {
   "cell_type": "code",
   "execution_count": null,
   "metadata": {
    "id": "EmsZXj8AmrRm",
    "outputId": "60be1370-57ca-4743-e742-ef1462f2fdab"
   },
   "outputs": [
    {
     "name": "stdout",
     "output_type": "stream",
     "text": [
      "Yo estudio Matemáticas\n",
      "Yo estudio Física\n",
      "Yo estudio Química\n",
      "Yo estudio Historia\n",
      "Yo estudio Lengua\n"
     ]
    }
   ],
   "source": [
    "subjects = [\"Matemáticas\", \"Física\", \"Química\", \"Historia\", \"Lengua\"]\n",
    "for subject in subjects:\n",
    "    print(\"Yo estudio \" + subject)"
   ]
  },
  {
   "cell_type": "markdown",
   "metadata": {
    "id": "WuEl3yaGm1r0"
   },
   "source": [
    "### Ejercicio 3\n",
    "\n",
    "Escribir un programa que almacene las asignaturas de un curso (por ejemplo Matemáticas, Física, Química, Historia y Lengua) en una lista y la muestre por pantalla."
   ]
  },
  {
   "cell_type": "markdown",
   "metadata": {
    "id": "4qK-F2C3m1r2"
   },
   "source": [
    "#### Solución"
   ]
  },
  {
   "cell_type": "code",
   "execution_count": null,
   "metadata": {
    "id": "qyNADJGMm1r3",
    "outputId": "6d13cb9c-90c2-44d7-d613-d8149aa12adc"
   },
   "outputs": [
    {
     "name": "stdin",
     "output_type": "stream",
     "text": [
      "¿Qué nota has sacado en Matemáticas? 6\n",
      "¿Qué nota has sacado en Física? 7\n",
      "¿Qué nota has sacado en Química? 4\n",
      "¿Qué nota has sacado en Historia? 6\n",
      "¿Qué nota has sacado en Lengua? 5\n"
     ]
    },
    {
     "name": "stdout",
     "output_type": "stream",
     "text": [
      "En Matemáticas has sacado 6\n",
      "En Física has sacado 7\n",
      "En Química has sacado 4\n",
      "En Historia has sacado 6\n",
      "En Lengua has sacado 5\n"
     ]
    }
   ],
   "source": [
    "subjects = [\"Matemáticas\", \"Física\", \"Química\", \"Historia\", \"Lengua\"]\n",
    "scores = []\n",
    "for subject in subjects:\n",
    "    score = input(\"¿Qué nota has sacado en \" + subject + \"?\")\n",
    "    scores.append(score)\n",
    "for i in range(len(subjects)):\n",
    "    print(\"En \" + subjects[i] + \" has sacado \" + scores[i])"
   ]
  },
  {
   "cell_type": "markdown",
   "metadata": {
    "id": "j66ukPBLnCAO"
   },
   "source": [
    "### Ejercicio 4\n",
    "\n",
    "Escribir un programa que pregunte al usuario los números ganadores de la lotería primitiva, los almacene en una lista y los muestre por pantalla ordenados de menor a mayor."
   ]
  },
  {
   "cell_type": "markdown",
   "metadata": {
    "id": "zBy_iifYnCAX"
   },
   "source": [
    "#### Solución "
   ]
  },
  {
   "cell_type": "code",
   "execution_count": null,
   "metadata": {
    "id": "Bj9PC3FfnCAY",
    "outputId": "75f7ecc6-1ae4-4eec-e19b-ccc4e82530e8"
   },
   "outputs": [
    {
     "name": "stdin",
     "output_type": "stream",
     "text": [
      "Introduce un número ganador:  46\n",
      "Introduce un número ganador:  25\n",
      "Introduce un número ganador:  32\n",
      "Introduce un número ganador:  15\n",
      "Introduce un número ganador:  9\n",
      "Introduce un número ganador:  21\n"
     ]
    },
    {
     "name": "stdout",
     "output_type": "stream",
     "text": [
      "Los números ganadores son [9, 15, 21, 25, 32, 46]\n"
     ]
    }
   ],
   "source": [
    "awarded = []\n",
    "for i in range(6):\n",
    "    awarded.append(int(input(\"Introduce un número ganador: \")))\n",
    "awarded.sort()\n",
    "print(\"Los números ganadores son \" + str(awarded))"
   ]
  },
  {
   "cell_type": "markdown",
   "metadata": {
    "id": "P4VqQjLXnMGd"
   },
   "source": [
    "### Ejercicio 5\n",
    "\n",
    "Escribir un programa que almacene en una lista los números del 1 al 10 y los muestre por pantalla en orden inverso separados por comas."
   ]
  },
  {
   "cell_type": "markdown",
   "metadata": {
    "id": "CDB-OxdOnMGe"
   },
   "source": [
    "#### Solución "
   ]
  },
  {
   "cell_type": "code",
   "execution_count": null,
   "metadata": {
    "id": "BvV4eVYanMGf",
    "outputId": "0a0e9704-2c7e-45e3-cc90-3cc569acc500"
   },
   "outputs": [
    {
     "name": "stdout",
     "output_type": "stream",
     "text": [
      "10, 9, 8, 7, 6, 5, 4, 3, 2, 1, "
     ]
    }
   ],
   "source": [
    "numbers = [1, 2, 3, 4, 5, 6, 7, 8, 9, 10]\n",
    "for i in range(1, 11):\n",
    "    print(numbers[-i], end=\", \")"
   ]
  }
 ],
 "metadata": {
  "colab": {
   "name": "[Listas] Ejercicios con soluciones.ipynb",
   "provenance": []
  },
  "kernelspec": {
   "display_name": "Python 3",
   "language": "python",
   "name": "python3"
  },
  "language_info": {
   "codemirror_mode": {
    "name": "ipython",
    "version": 3
   },
   "file_extension": ".py",
   "mimetype": "text/x-python",
   "name": "python",
   "nbconvert_exporter": "python",
   "pygments_lexer": "ipython3",
   "version": "3.8.3rc1"
  },
  "nbTranslate": {
   "displayLangs": [
    "*"
   ],
   "hotkey": "alt-t",
   "langInMainMenu": true,
   "sourceLang": "en",
   "targetLang": "fr",
   "useGoogleTranslate": true
  },
  "toc": {
   "base_numbering": 1,
   "nav_menu": {},
   "number_sections": true,
   "sideBar": false,
   "skip_h1_title": true,
   "title_cell": "Table of Contents",
   "title_sidebar": "Contents",
   "toc_cell": true,
   "toc_position": {},
   "toc_section_display": true,
   "toc_window_display": false
  }
 },
 "nbformat": 4,
 "nbformat_minor": 1
}
