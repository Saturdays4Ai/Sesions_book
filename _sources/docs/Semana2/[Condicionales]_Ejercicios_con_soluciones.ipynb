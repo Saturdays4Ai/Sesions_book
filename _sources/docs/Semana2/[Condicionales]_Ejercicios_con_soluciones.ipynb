{
 "cells": [
  {
   "cell_type": "markdown",
   "metadata": {
    "toc": true
   },
   "source": [
    "<h1>Table of Contents<span class=\"tocSkip\"></span></h1>\n",
    "<div class=\"toc\"><ul class=\"toc-item\"><li><span><a href=\"#Ejercicio-1\" data-toc-modified-id=\"Ejercicio-1-1\"><span class=\"toc-item-num\">1&nbsp;&nbsp;</span>Ejercicio 1</a></span><ul class=\"toc-item\"><li><span><a href=\"#Solución\" data-toc-modified-id=\"Solución-1.1\"><span class=\"toc-item-num\">1.1&nbsp;&nbsp;</span>Solución</a></span></li></ul></li><li><span><a href=\"#Ejercicio-2\" data-toc-modified-id=\"Ejercicio-2-2\"><span class=\"toc-item-num\">2&nbsp;&nbsp;</span>Ejercicio 2</a></span><ul class=\"toc-item\"><li><span><a href=\"#Solución\" data-toc-modified-id=\"Solución-2.1\"><span class=\"toc-item-num\">2.1&nbsp;&nbsp;</span>Solución</a></span></li></ul></li><li><span><a href=\"#Ejercicio-3\" data-toc-modified-id=\"Ejercicio-3-3\"><span class=\"toc-item-num\">3&nbsp;&nbsp;</span>Ejercicio 3</a></span><ul class=\"toc-item\"><li><span><a href=\"#Solución\" data-toc-modified-id=\"Solución-3.1\"><span class=\"toc-item-num\">3.1&nbsp;&nbsp;</span>Solución</a></span></li></ul></li><li><span><a href=\"#Ejercicio-4\" data-toc-modified-id=\"Ejercicio-4-4\"><span class=\"toc-item-num\">4&nbsp;&nbsp;</span>Ejercicio 4</a></span><ul class=\"toc-item\"><li><span><a href=\"#Solución\" data-toc-modified-id=\"Solución-4.1\"><span class=\"toc-item-num\">4.1&nbsp;&nbsp;</span>Solución</a></span></li></ul></li><li><span><a href=\"#Ejercicio-5\" data-toc-modified-id=\"Ejercicio-5-5\"><span class=\"toc-item-num\">5&nbsp;&nbsp;</span>Ejercicio 5</a></span><ul class=\"toc-item\"><li><span><a href=\"#Solución\" data-toc-modified-id=\"Solución-5.1\"><span class=\"toc-item-num\">5.1&nbsp;&nbsp;</span>Solución</a></span></li></ul></li></ul></div>"
   ]
  },
  {
   "cell_type": "markdown",
   "metadata": {
    "id": "7HZtvaelfFK4"
   },
   "source": [
    "![](https://www.saturdays.ai/images/logo.png)"
   ]
  },
  {
   "cell_type": "markdown",
   "metadata": {},
   "source": [
    "# Condicionales"
   ]
  },
  {
   "cell_type": "markdown",
   "metadata": {
    "id": "K3HnQjt2fHFk"
   },
   "source": [
    "## Ejercicio 1\n",
    "\n",
    "Escribir un programa que pregunte al usuario su edad y muestre por pantalla si es mayor de edad o no.\n",
    "\n",
    "\n"
   ]
  },
  {
   "cell_type": "code",
   "execution_count": null,
   "metadata": {
    "id": "CkYjN9VrfCG7"
   },
   "outputs": [],
   "source": []
  },
  {
   "cell_type": "markdown",
   "metadata": {
    "id": "rjzEndgXffXp"
   },
   "source": [
    "### Solución"
   ]
  },
  {
   "cell_type": "code",
   "execution_count": null,
   "metadata": {
    "id": "WzXHK7bqfV4k"
   },
   "outputs": [],
   "source": [
    "age = int(input(\"¿Cuál es tu edad? \"))\n",
    "if age < 18: \n",
    "    print (\"Eres menor de edad.\")\n",
    "else:\n",
    "    print(\"Eres mayor de edad.\")"
   ]
  },
  {
   "cell_type": "markdown",
   "metadata": {
    "id": "MJ6ZfQszfklq"
   },
   "source": [
    "## Ejercicio 2 \n",
    "\n",
    "Escribir un programa que almacene la cadena de caracteres `contraseña` en una variable, pregunte al usuario por la contraseña e imprima por pantalla si la contraseña introducida por el usuario coincide con la guardada en la variable sin tener en cuenta mayúsculas y minúsculas."
   ]
  },
  {
   "cell_type": "markdown",
   "metadata": {
    "id": "2czmU_TCfklr"
   },
   "source": [
    "### Solución"
   ]
  },
  {
   "cell_type": "code",
   "execution_count": null,
   "metadata": {
    "id": "xYIOrf6lfkls",
    "outputId": "7f096dd3-6700-4d5e-cb98-4af119452fb1"
   },
   "outputs": [
    {
     "name": "stdin",
     "output_type": "stream",
     "text": [
      "Introduce la contraseña:  coNtrAseÑa\n"
     ]
    },
    {
     "name": "stdout",
     "output_type": "stream",
     "text": [
      "La contaseña coincide\n"
     ]
    }
   ],
   "source": [
    "key = \"contraseña\"\n",
    "password = input(\"Introduce la contraseña: \")\n",
    "if key == password.lower():\n",
    "    print(\"La contaseña coincide\")\n",
    "else:\n",
    "    print(\"La contraseña no coincide\")"
   ]
  },
  {
   "cell_type": "markdown",
   "metadata": {
    "id": "vAN2qkL_ftO1"
   },
   "source": [
    "## Ejercicio 3 \n",
    "\n",
    "Escribir un programa que pida al usuario dos números y devuelva su división. Si el usuario no introduce números debe devolver un aviso de error y si el divisor es cero también."
   ]
  },
  {
   "cell_type": "code",
   "execution_count": null,
   "metadata": {
    "id": "TL1yIKwLf81m"
   },
   "outputs": [],
   "source": []
  },
  {
   "cell_type": "markdown",
   "metadata": {
    "id": "jH-0MxkBftO4"
   },
   "source": [
    "### Solución"
   ]
  },
  {
   "cell_type": "code",
   "execution_count": null,
   "metadata": {
    "id": "uUzNRGiiftO5"
   },
   "outputs": [],
   "source": [
    "n = float(input(\"Introduce el dividendo: \"))\n",
    "m = float(input(\"Introduce el divisior: \"))\n",
    "if m == 0:\n",
    "    print(\"¡Error! No se puede dividir por 0.\")\n",
    "else:\n",
    "    print(n/m)"
   ]
  },
  {
   "cell_type": "markdown",
   "metadata": {
    "id": "u4ShCRmugByD"
   },
   "source": [
    "## Ejercicio 4 \n",
    "\n",
    "Escribir un programa que pida al usuario dos números y devuelva su división. Si el usuario no introduce números debe devolver un aviso de error y si el divisor es cero también."
   ]
  },
  {
   "cell_type": "code",
   "execution_count": null,
   "metadata": {
    "id": "Gx3Vji1rgFym"
   },
   "outputs": [],
   "source": []
  },
  {
   "cell_type": "markdown",
   "metadata": {
    "id": "ID0pEWAOgByE"
   },
   "source": [
    "### Solución"
   ]
  },
  {
   "cell_type": "code",
   "execution_count": null,
   "metadata": {
    "id": "L2BbtdyrgByF"
   },
   "outputs": [],
   "source": [
    "n = float(input(\"Introduce el dividendo: \"))\n",
    "m = float(input(\"Introduce el divisior: \"))\n",
    "if m == 0:\n",
    "    print(\"¡Error! No se puede dividir por 0.\")\n",
    "else:\n",
    "    print(n/m)"
   ]
  },
  {
   "cell_type": "markdown",
   "metadata": {
    "id": "R2tLnGwjgKgP"
   },
   "source": [
    "## Ejercicio 5\n",
    "\n",
    "Para tributar un determinado impuesto se debe ser mayor de 16 años y tener unos ingresos superiores a 1000 € mensuales.\n",
    "Escribir un programa que pregunte al usuario su edad y sus ingresos mensuales y muestre por pantalla si el usuario tiene que tributar o no.\n"
   ]
  },
  {
   "cell_type": "code",
   "execution_count": null,
   "metadata": {
    "id": "yOgRuLuoghgE"
   },
   "outputs": [],
   "source": []
  },
  {
   "cell_type": "markdown",
   "metadata": {
    "id": "ABQAwjc9gKgR"
   },
   "source": [
    "### Solución"
   ]
  },
  {
   "cell_type": "code",
   "execution_count": null,
   "metadata": {
    "id": "VpCjTe6pgKgT",
    "outputId": "f642a12a-3f14-4623-dc31-0dcf4588f199"
   },
   "outputs": [
    {
     "name": "stdin",
     "output_type": "stream",
     "text": [
      "¿Cuál es tu edad?  17\n",
      "¿Cuales son tus ingresos mensuales? 1000\n"
     ]
    },
    {
     "name": "stdout",
     "output_type": "stream",
     "text": [
      "Tienes que cotizar\n"
     ]
    }
   ],
   "source": [
    "age = int(input(\"¿Cuál es tu edad? \"))\n",
    "income = float(input(\"¿Cuales son tus ingresos mensuales?\"))\n",
    "if age > 16 and income >= 1000:\n",
    "    print(\"Tienes que cotizar\")\n",
    "else:\n",
    "    print(\"No tienes que cotizar\")"
   ]
  }
 ],
 "metadata": {
  "colab": {
   "name": "[Condicionales] Ejercicios con soluciones.ipynb",
   "provenance": []
  },
  "kernelspec": {
   "display_name": "Python 3",
   "language": "python",
   "name": "python3"
  },
  "language_info": {
   "codemirror_mode": {
    "name": "ipython",
    "version": 3
   },
   "file_extension": ".py",
   "mimetype": "text/x-python",
   "name": "python",
   "nbconvert_exporter": "python",
   "pygments_lexer": "ipython3",
   "version": "3.8.3rc1"
  },
  "nbTranslate": {
   "displayLangs": [
    "*"
   ],
   "hotkey": "alt-t",
   "langInMainMenu": true,
   "sourceLang": "en",
   "targetLang": "fr",
   "useGoogleTranslate": true
  },
  "toc": {
   "base_numbering": 1,
   "nav_menu": {},
   "number_sections": true,
   "sideBar": false,
   "skip_h1_title": true,
   "title_cell": "Table of Contents",
   "title_sidebar": "Contents",
   "toc_cell": true,
   "toc_position": {},
   "toc_section_display": true,
   "toc_window_display": false
  }
 },
 "nbformat": 4,
 "nbformat_minor": 1
}
