{
 "cells": [
  {
   "cell_type": "markdown",
   "metadata": {
    "toc": true
   },
   "source": [
    "<h1>Table of Contents<span class=\"tocSkip\"></span></h1>\n",
    "<div class=\"toc\"><ul class=\"toc-item\"><li><span><a href=\"#Ejercicio-1\" data-toc-modified-id=\"Ejercicio-1-1\"><span class=\"toc-item-num\">1&nbsp;&nbsp;</span>Ejercicio 1</a></span><ul class=\"toc-item\"><li><span><a href=\"#Solución\" data-toc-modified-id=\"Solución-1.1\"><span class=\"toc-item-num\">1.1&nbsp;&nbsp;</span>Solución</a></span></li></ul></li><li><span><a href=\"#Ejercicio-2\" data-toc-modified-id=\"Ejercicio-2-2\"><span class=\"toc-item-num\">2&nbsp;&nbsp;</span>Ejercicio 2</a></span><ul class=\"toc-item\"><li><span><a href=\"#Solución\" data-toc-modified-id=\"Solución-2.1\"><span class=\"toc-item-num\">2.1&nbsp;&nbsp;</span>Solución</a></span></li></ul></li><li><span><a href=\"#Ejercicio-3\" data-toc-modified-id=\"Ejercicio-3-3\"><span class=\"toc-item-num\">3&nbsp;&nbsp;</span>Ejercicio 3</a></span><ul class=\"toc-item\"><li><span><a href=\"#Solución\" data-toc-modified-id=\"Solución-3.1\"><span class=\"toc-item-num\">3.1&nbsp;&nbsp;</span>Solución</a></span></li></ul></li><li><span><a href=\"#Ejercicio-4\" data-toc-modified-id=\"Ejercicio-4-4\"><span class=\"toc-item-num\">4&nbsp;&nbsp;</span>Ejercicio 4</a></span><ul class=\"toc-item\"><li><span><a href=\"#Solución\" data-toc-modified-id=\"Solución-4.1\"><span class=\"toc-item-num\">4.1&nbsp;&nbsp;</span>Solución</a></span></li></ul></li><li><span><a href=\"#Ejercicio-5\" data-toc-modified-id=\"Ejercicio-5-5\"><span class=\"toc-item-num\">5&nbsp;&nbsp;</span>Ejercicio 5</a></span><ul class=\"toc-item\"><li><span><a href=\"#Solución\" data-toc-modified-id=\"Solución-5.1\"><span class=\"toc-item-num\">5.1&nbsp;&nbsp;</span>Solución</a></span></li><li><span><a href=\"#Solución\" data-toc-modified-id=\"Solución-5.2\"><span class=\"toc-item-num\">5.2&nbsp;&nbsp;</span>Solución</a></span></li></ul></li></ul></div>"
   ]
  },
  {
   "cell_type": "markdown",
   "metadata": {
    "id": "DejIhTX3eJHK"
   },
   "source": [
    "![](https://www.saturdays.ai/images/logo.png)"
   ]
  },
  {
   "cell_type": "markdown",
   "metadata": {},
   "source": [
    "# Ejercicios con soluciones"
   ]
  },
  {
   "cell_type": "markdown",
   "metadata": {
    "id": "-rET6HFnWfel"
   },
   "source": [
    "### Ejercicio 1\n",
    "Escribir un programa que muestre por pantalla la frase `¡Hola mundo!`"
   ]
  },
  {
   "cell_type": "code",
   "execution_count": null,
   "metadata": {
    "id": "B4yedE2HWhgl"
   },
   "outputs": [],
   "source": []
  },
  {
   "cell_type": "markdown",
   "metadata": {
    "id": "2NrMbwXbWfen"
   },
   "source": [
    "#### Solución"
   ]
  },
  {
   "cell_type": "code",
   "execution_count": 1,
   "metadata": {
    "id": "7-y6NIyoWfep",
    "outputId": "fa09f9af-9a84-4661-a80f-c52c33c30f04"
   },
   "outputs": [
    {
     "name": "stdout",
     "output_type": "stream",
     "text": [
      "¡Hola Mundo!\n"
     ]
    }
   ],
   "source": [
    "print(\"¡Hola Mundo!\")"
   ]
  },
  {
   "cell_type": "markdown",
   "metadata": {
    "id": "rCq0OnIOXQ2l"
   },
   "source": [
    "### Ejercicio 2\n",
    "\n",
    "Escribir un programa que almacene la cadena ¡Hola Mundo! en una variable y luego muestre por pantalla el contenido de la variable."
   ]
  },
  {
   "cell_type": "code",
   "execution_count": null,
   "metadata": {
    "id": "KspeKr8vXT_4"
   },
   "outputs": [],
   "source": []
  },
  {
   "cell_type": "markdown",
   "metadata": {
    "id": "kgVqJTeNXYVV"
   },
   "source": [
    "#### Solución"
   ]
  },
  {
   "cell_type": "code",
   "execution_count": null,
   "metadata": {
    "colab": {
     "base_uri": "https://localhost:8080/"
    },
    "id": "rQ41-Q6VXaI1",
    "outputId": "503f2a15-cc99-4658-c697-f052ffe6bf8e"
   },
   "outputs": [
    {
     "name": "stdout",
     "output_type": "stream",
     "text": [
      "¡Hola Mundo!\n"
     ]
    }
   ],
   "source": [
    "message = \"¡Hola Mundo!\"\n",
    "print(message)"
   ]
  },
  {
   "cell_type": "markdown",
   "metadata": {
    "id": "jZybt8qTXx0g"
   },
   "source": [
    "### Ejercicio 3\n",
    "Escribir un programa que pregunte el nombre del usuario en la consola y después de que el usuario lo introduzca muestre por pantalla la cadena ¡Hola <nombre>!, donde <nombre> es el nombre que el usuario haya introducido."
   ]
  },
  {
   "cell_type": "code",
   "execution_count": null,
   "metadata": {
    "id": "BvDlHpL-Xz1g"
   },
   "outputs": [],
   "source": []
  },
  {
   "cell_type": "markdown",
   "metadata": {
    "id": "SpcYiuFLX0VL"
   },
   "source": [
    "#### Solución"
   ]
  },
  {
   "cell_type": "code",
   "execution_count": null,
   "metadata": {
    "id": "tKNKbSZ0X1n6"
   },
   "outputs": [],
   "source": [
    "name = input(\"Introduce tu nombre: \")\n",
    "print(\"¡Hola \" + name + \"!\")"
   ]
  },
  {
   "cell_type": "markdown",
   "metadata": {
    "id": "BSGqkkYjX5qb"
   },
   "source": [
    "### Ejercicio 4\n",
    "Escribir un programa que pregunte el nombre del usuario en la consola y un número entero e imprima por pantalla en líneas distintas el nombre del usuario tantas veces como el número introducido."
   ]
  },
  {
   "cell_type": "code",
   "execution_count": null,
   "metadata": {
    "id": "jyRXmh6nX9nt"
   },
   "outputs": [],
   "source": []
  },
  {
   "cell_type": "markdown",
   "metadata": {
    "id": "ICf0T2onYBI1"
   },
   "source": [
    "#### Solución"
   ]
  },
  {
   "cell_type": "code",
   "execution_count": null,
   "metadata": {
    "id": "tCFflNDkYClw"
   },
   "outputs": [],
   "source": [
    "name = input(\"¿Cómo te llamas? \")\n",
    "n = input(\"Introduce un número entero: \")\n",
    "print((name + \"\\n\") * int(n))"
   ]
  },
  {
   "cell_type": "markdown",
   "metadata": {
    "id": "AQsSTkrkYHOD"
   },
   "source": [
    "### Ejercicio 5\n",
    "\n",
    "Escribir un programa que pregunte el nombre del usuario en la consola y después de que el usuario lo introduzca muestre por pantalla <NOMBRE> tiene <n> letras, donde <NOMBRE> es el nombre de usuario en mayúsculas y <n> es el número de letras que tienen el nombre."
   ]
  },
  {
   "cell_type": "code",
   "execution_count": null,
   "metadata": {
    "id": "mD5UC7x4YMqz"
   },
   "outputs": [],
   "source": []
  },
  {
   "cell_type": "markdown",
   "metadata": {
    "id": "cwpz0bRjYQjK"
   },
   "source": [
    "#### Solución"
   ]
  },
  {
   "cell_type": "code",
   "execution_count": null,
   "metadata": {
    "id": "Jh0FXNDQYReD"
   },
   "outputs": [],
   "source": [
    "name = input(\"¿Cómo te llamas? \")\n",
    "print(name.upper() + \" tiene \" + str(len(name)) + \" letras\")"
   ]
  },
  {
   "cell_type": "markdown",
   "metadata": {
    "id": "SI0wPIzjYcWQ"
   },
   "source": [
    "###Ejercicio 6\n",
    "\n",
    "Escribir un programa que pida al usuario su peso (en kg) y estatura (en metros), calcule el índice de masa corporal y lo almacene en una variable, y muestre por pantalla la frase Tu índice de masa corporal es <imc> donde <imc> es el índice de masa corporal calculado redondeado con dos decimales."
   ]
  },
  {
   "cell_type": "code",
   "execution_count": null,
   "metadata": {
    "id": "IAUcap1JYdc5"
   },
   "outputs": [],
   "source": []
  },
  {
   "cell_type": "markdown",
   "metadata": {
    "id": "sR3ZnaaHYi_1"
   },
   "source": [
    "#### Solución"
   ]
  },
  {
   "cell_type": "code",
   "execution_count": null,
   "metadata": {
    "id": "3bOcut-yYkAn"
   },
   "outputs": [],
   "source": [
    "weight = input(\"¿Cuál es tu peso en kg? \")\n",
    "height = input(\"¿Cuál es tu estatura en metros?\")\n",
    "bmi = round(float(weight)/float(height)**2,2)\n",
    "print(\"Tu índice de masa corporal es \" + str(bmi))"
   ]
  }
 ],
 "metadata": {
  "colab": {
   "name": "[Tipos de datos] Ejercicios con soluciones.ipynb",
   "provenance": []
  },
  "kernelspec": {
   "display_name": "Python 3",
   "language": "python",
   "name": "python3"
  },
  "language_info": {
   "codemirror_mode": {
    "name": "ipython",
    "version": 3
   },
   "file_extension": ".py",
   "mimetype": "text/x-python",
   "name": "python",
   "nbconvert_exporter": "python",
   "pygments_lexer": "ipython3",
   "version": "3.8.3rc1"
  },
  "nbTranslate": {
   "displayLangs": [
    "*"
   ],
   "hotkey": "alt-t",
   "langInMainMenu": true,
   "sourceLang": "en",
   "targetLang": "fr",
   "useGoogleTranslate": true
  },
  "toc": {
   "base_numbering": 1,
   "nav_menu": {},
   "number_sections": true,
   "sideBar": false,
   "skip_h1_title": true,
   "title_cell": "Table of Contents",
   "title_sidebar": "Contents",
   "toc_cell": true,
   "toc_position": {},
   "toc_section_display": true,
   "toc_window_display": false
  }
 },
 "nbformat": 4,
 "nbformat_minor": 1
}
