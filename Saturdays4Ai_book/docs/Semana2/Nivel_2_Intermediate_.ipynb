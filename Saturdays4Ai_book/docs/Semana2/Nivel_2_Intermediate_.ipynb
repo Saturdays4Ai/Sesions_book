{
 "cells": [
  {
   "cell_type": "markdown",
   "metadata": {
    "toc": true
   },
   "source": [
    "<h1>Table of Contents<span class=\"tocSkip\"></span></h1>\n",
    "<div class=\"toc\"><ul class=\"toc-item\"><li><span><a href=\"#Nivel-1-Beginner\" data-toc-modified-id=\"Nivel-1-Beginner-1\"><span class=\"toc-item-num\">1&nbsp;&nbsp;</span>Nivel 1 Beginner</a></span></li><li><span><a href=\"#Nivel-2-Intermediate\" data-toc-modified-id=\"Nivel-2-Intermediate-2\"><span class=\"toc-item-num\">2&nbsp;&nbsp;</span>Nivel 2 Intermediate</a></span></li><li><span><a href=\"#Pregunta-1\" data-toc-modified-id=\"Pregunta-1-3\"><span class=\"toc-item-num\">3&nbsp;&nbsp;</span>Pregunta 1</a></span><ul class=\"toc-item\"><li><span><a href=\"#Solución\" data-toc-modified-id=\"Solución-3.1\"><span class=\"toc-item-num\">3.1&nbsp;&nbsp;</span>Solución</a></span></li></ul></li><li><span><a href=\"#Pregunta-2\" data-toc-modified-id=\"Pregunta-2-4\"><span class=\"toc-item-num\">4&nbsp;&nbsp;</span>Pregunta 2</a></span><ul class=\"toc-item\"><li><span><a href=\"#Solución\" data-toc-modified-id=\"Solución-4.1\"><span class=\"toc-item-num\">4.1&nbsp;&nbsp;</span>Solución</a></span></li></ul></li><li><span><a href=\"#Pregunta-3\" data-toc-modified-id=\"Pregunta-3-5\"><span class=\"toc-item-num\">5&nbsp;&nbsp;</span>Pregunta 3</a></span><ul class=\"toc-item\"><li><span><a href=\"#Solución\" data-toc-modified-id=\"Solución-5.1\"><span class=\"toc-item-num\">5.1&nbsp;&nbsp;</span>Solución</a></span></li></ul></li><li><span><a href=\"#Pregunta-4\" data-toc-modified-id=\"Pregunta-4-6\"><span class=\"toc-item-num\">6&nbsp;&nbsp;</span>Pregunta 4</a></span><ul class=\"toc-item\"><li><span><a href=\"#Solución\" data-toc-modified-id=\"Solución-6.1\"><span class=\"toc-item-num\">6.1&nbsp;&nbsp;</span>Solución</a></span></li></ul></li><li><span><a href=\"#Pregunta-4\" data-toc-modified-id=\"Pregunta-4-7\"><span class=\"toc-item-num\">7&nbsp;&nbsp;</span>Pregunta 4</a></span><ul class=\"toc-item\"><li><span><a href=\"#Solución\" data-toc-modified-id=\"Solución-7.1\"><span class=\"toc-item-num\">7.1&nbsp;&nbsp;</span>Solución</a></span></li></ul></li><li><span><a href=\"#Pregunta-5\" data-toc-modified-id=\"Pregunta-5-8\"><span class=\"toc-item-num\">8&nbsp;&nbsp;</span>Pregunta 5</a></span><ul class=\"toc-item\"><li><span><a href=\"#Solución\" data-toc-modified-id=\"Solución-8.1\"><span class=\"toc-item-num\">8.1&nbsp;&nbsp;</span>Solución</a></span></li></ul></li></ul></div>"
   ]
  },
  {
   "cell_type": "markdown",
   "metadata": {
    "id": "9xovFd_e29sb"
   },
   "source": [
    "![](https://www.saturdays.ai/images/logo.png)"
   ]
  },
  {
   "cell_type": "markdown",
   "metadata": {},
   "source": [
    "# Ejercicios Nivel 2"
   ]
  },
  {
   "cell_type": "markdown",
   "metadata": {
    "id": "4PvFbK_z27JE"
   },
   "source": [
    "\n",
    "### Nivel 1 Beginner\n",
    "El nivel principiante es para alguien que su primera vez en un curso introductorio de Python. Puedes resolver algunos problemas con 1 o 2 clases o funciones de Python. Normalmente, las respuestas podrían encontrarse directamente en los libros de texto.\n",
    "\n",
    "### Nivel 2 Intermediate\n",
    "El nivel intermedi es para alguien que acaba de aprender Python, pero que ya tiene una experiencia de programación relativamente fuerte de antes. Deberías ser capaz de resolver problemas que pueden implicar  3 clases o funciones de Python. Las respuestas ya no se pueden encontrar directamente en los libros de texto.\n"
   ]
  },
  {
   "cell_type": "markdown",
   "metadata": {
    "id": "5reDPzNK3SnZ"
   },
   "source": [
    "### Pregunta 1 \n",
    "\n",
    "Nivel 2\n",
    "\n",
    "Enunciado: Escriba un programa que tome 2 dígitos, X,Y como entrada y genere una matriz de 2 dimensiones. El valor del elemento en la fila i-ésima y en la columna j-ésima de la matriz debe ser i*j. Nota: i=0,1..., X-1; j=0,1,Y-1. Ejemplo Supongamos que se dan las siguientes entradas al programa: 3,5 Entonces, la salida del programa debería ser: [[0, 0, 0, 0, 0], [0, 1, 2, 3, 4], [0, 2, 4, 6, 8]]\n",
    "\n",
    "Pistas: En caso de que se suministren datos de entrada a la pregunta, debe asumirse que se trata de una entrada de consola en forma separada por comas.\n",
    "\n"
   ]
  },
  {
   "cell_type": "markdown",
   "metadata": {
    "id": "vhbp_quU3hh_"
   },
   "source": [
    "#### Solución"
   ]
  },
  {
   "cell_type": "code",
   "execution_count": null,
   "metadata": {
    "id": "kaECRmvG2XXV"
   },
   "outputs": [],
   "source": [
    "input_str = input()\n",
    "dimensions=[int(x) for x in input_str.split(',')]\n",
    "rowNum=dimensions[0]\n",
    "colNum=dimensions[1]\n",
    "multilist = [[0 for col in range(colNum)] for row in range(rowNum)]\n",
    "\n",
    "for row in range(rowNum):\n",
    "    for col in range(colNum):\n",
    "        multilist[row][col]= row*col\n",
    "\n",
    "print(multilist)"
   ]
  },
  {
   "cell_type": "markdown",
   "metadata": {
    "id": "EwKmCMrC3lHP"
   },
   "source": [
    "### Pregunta 2\n",
    "\n",
    "Nivel 2\n",
    "\n",
    "Escriba un programa que acepte una secuencia de palabras separadas por comas como entrada e imprima las palabras en una secuencia separada por comas después de ordenarlas alfabéticamente. Supongamos que la siguiente entrada es suministrada al programa: sin,hola,bolsa,mundo Entonces, la salida debería ser: bolsa,hola,sin,mundo\n",
    "\n",
    "Pistas: En caso de que se suministren datos de entrada a la pregunta, debe asumirse que se trata de una entrada de consola.\n",
    "\n"
   ]
  },
  {
   "cell_type": "markdown",
   "metadata": {
    "id": "KFYc19zP3vCo"
   },
   "source": [
    "#### Solución"
   ]
  },
  {
   "cell_type": "code",
   "execution_count": null,
   "metadata": {
    "id": "rsoozmsL3p6r"
   },
   "outputs": [],
   "source": [
    "items=[x for x in input().split(',')]\n",
    "items.sort()\n",
    "print(','.join(items))"
   ]
  },
  {
   "cell_type": "markdown",
   "metadata": {
    "id": "QqTC6Rqt32Ov"
   },
   "source": [
    "### Pregunta 3\n",
    "\n",
    "Nivel 2\n",
    "\n",
    "Escribe un programa que acepte una secuencia de líneas como entrada e imprime las líneas después de hacer todos los caracteres de la frase en mayúsculas. Supongamos que se suministra la siguiente entrada al programa: Hola mundo La práctica hace la perfección Entonces, la salida debe ser: HOLA MUNDO LA PRÁCTICA HACE LA PERFECCIÓN\n",
    "\n",
    "Pistas: En caso de que se suministren datos de entrada a la pregunta, debe asumirse que se trata de una entrada de consola.\n"
   ]
  },
  {
   "cell_type": "markdown",
   "metadata": {
    "id": "AgWZfCwT4AgH"
   },
   "source": [
    "#### Solución"
   ]
  },
  {
   "cell_type": "code",
   "execution_count": null,
   "metadata": {
    "id": "_zjsP6XL355r"
   },
   "outputs": [],
   "source": [
    "lines = []\n",
    "while True:\n",
    "    s = input()\n",
    "    if s:\n",
    "        lines.append(s.upper())\n",
    "    else:\n",
    "        break;\n",
    "\n",
    "for sentence in lines:\n",
    "    print(sentence)"
   ]
  },
  {
   "cell_type": "markdown",
   "metadata": {
    "id": "JKihTb4f4Hvh"
   },
   "source": [
    "### Pregunta 4\n",
    "\n",
    "Nivel 2\n",
    "\n",
    "Escribe un programa que acepte una secuencia de palabras separadas por espacios en blanco como entrada e imprime las palabras después de eliminar todas las palabras duplicadas y ordenarlas alfanuméricamente. Supongamos que la siguiente entrada se suministra al programa: hola mundo y la práctica hace perfecto y hola mundo de nuevo Entonces, la salida debe ser: de nuevo y hola hace perfecto mundo de la práctica.\n",
    "\n",
    "Pistas: En caso de que se suministren datos de entrada a la pregunta, debe asumirse que se trata de una entrada de consola. Usamos el contenedor de conjuntos para eliminar los datos duplicados automáticamente y luego usamos sorted() para clasificar los datos.\n",
    "\n"
   ]
  },
  {
   "cell_type": "markdown",
   "metadata": {
    "id": "3SA8EMpm4PlH"
   },
   "source": [
    "#### Solución"
   ]
  },
  {
   "cell_type": "code",
   "execution_count": null,
   "metadata": {
    "id": "T6_NhOY44Nca"
   },
   "outputs": [],
   "source": [
    "s = input()\n",
    "words = [word for word in s.split(\" \")]\n",
    "print(\" \".join(sorted(list(set(words)))))"
   ]
  },
  {
   "cell_type": "markdown",
   "metadata": {
    "id": "wUe0gWpW6F4p"
   },
   "source": [
    "### Pregunta 4\n",
    "\n",
    "Nivel 2\n",
    "\n",
    "Escriba un programa que acepte una secuencia de números binarios de 4 dígitos separados por comas como su entrada y luego compruebe si son divisibles por 5 o no. Los números que son divisibles por 5 deben ser impresos en una secuencia separada por comas. Ejemplo: 0100,0011,1010,1001 Entonces la salida debe ser: 1010 Notas: Supongamos que los datos son introducidos por la consola.\n",
    "\n",
    "Pistas: En caso de que se suministren datos de entrada a la pregunta, debe asumirse que se trata de una entrada de consola.\n",
    "\n"
   ]
  },
  {
   "cell_type": "markdown",
   "metadata": {
    "id": "Yp5X_AE_6Np1"
   },
   "source": [
    "#### Solución"
   ]
  },
  {
   "cell_type": "code",
   "execution_count": null,
   "metadata": {
    "id": "Ig39aZC66IyJ"
   },
   "outputs": [],
   "source": [
    "value = []\n",
    "items=[x for x in input().split(',')]\n",
    "for p in items:\n",
    "    intp = int(p, 2)\n",
    "    if not intp%5:\n",
    "        value.append(p)\n",
    "\n",
    "print(','.join(value))"
   ]
  },
  {
   "cell_type": "markdown",
   "metadata": {
    "id": "q-zm0H8K6Tdl"
   },
   "source": [
    "### Pregunta 5\n",
    "\n",
    "Nivel 2\n",
    "\n",
    "Escriba un programa, que encontrará todos los números entre 1000 y 3000 (ambos incluidos) de tal manera que cada dígito del número sea un número par. Los números obtenidos deben ser impresos en una secuencia separada por comas en una sola línea.\n",
    "\n",
    "Pistas: En caso de que se suministren datos de entrada a la pregunta, debe asumirse que se trata de una entrada de consola."
   ]
  },
  {
   "cell_type": "markdown",
   "metadata": {
    "id": "XLKFgGn86XOf"
   },
   "source": [
    "#### Solución"
   ]
  },
  {
   "cell_type": "code",
   "execution_count": null,
   "metadata": {
    "id": "vwikxYsG6Vkm"
   },
   "outputs": [],
   "source": [
    "values = []\n",
    "for i in range(1000, 3001):\n",
    "    s = str(i)\n",
    "    if (int(s[0])%2==0) and (int(s[1])%2==0) and (int(s[2])%2==0) and (int(s[3])%2==0):\n",
    "        values.append(s)\n",
    "print(\",\".join(values))"
   ]
  }
 ],
 "metadata": {
  "colab": {
   "collapsed_sections": [],
   "name": "Nivel 2 Intermediate .ipynb",
   "provenance": []
  },
  "kernelspec": {
   "display_name": "Python 3",
   "language": "python",
   "name": "python3"
  },
  "language_info": {
   "codemirror_mode": {
    "name": "ipython",
    "version": 3
   },
   "file_extension": ".py",
   "mimetype": "text/x-python",
   "name": "python",
   "nbconvert_exporter": "python",
   "pygments_lexer": "ipython3",
   "version": "3.8.3rc1"
  },
  "nbTranslate": {
   "displayLangs": [
    "*"
   ],
   "hotkey": "alt-t",
   "langInMainMenu": true,
   "sourceLang": "en",
   "targetLang": "fr",
   "useGoogleTranslate": true
  },
  "toc": {
   "base_numbering": 1,
   "nav_menu": {},
   "number_sections": true,
   "sideBar": false,
   "skip_h1_title": true,
   "title_cell": "Table of Contents",
   "title_sidebar": "Contents",
   "toc_cell": true,
   "toc_position": {},
   "toc_section_display": true,
   "toc_window_display": false
  }
 },
 "nbformat": 4,
 "nbformat_minor": 1
}
