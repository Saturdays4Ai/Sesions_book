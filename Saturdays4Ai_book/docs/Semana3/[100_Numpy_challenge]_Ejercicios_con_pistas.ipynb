{
 "cells": [
  {
   "cell_type": "markdown",
   "metadata": {
    "toc": true
   },
   "source": [
    "<h1>Table of Contents<span class=\"tocSkip\"></span></h1>\n",
    "<div class=\"toc\"><ul class=\"toc-item\"><li><span><a href=\"#1.-Import-the-numpy-package-under-the-name-np-(★☆☆)\" data-toc-modified-id=\"1.-Import-the-numpy-package-under-the-name-np-(★☆☆)-1\"><span class=\"toc-item-num\">1&nbsp;&nbsp;</span>1. Import the numpy package under the name <code>np</code> (★☆☆)</a></span></li><li><span><a href=\"#2.-Print-the-numpy-version-and-the-configuration-(★☆☆)\" data-toc-modified-id=\"2.-Print-the-numpy-version-and-the-configuration-(★☆☆)-2\"><span class=\"toc-item-num\">2&nbsp;&nbsp;</span>2. Print the numpy version and the configuration (★☆☆)</a></span></li><li><span><a href=\"#3.-Create-a-null-vector-of-size-10-(★☆☆)\" data-toc-modified-id=\"3.-Create-a-null-vector-of-size-10-(★☆☆)-3\"><span class=\"toc-item-num\">3&nbsp;&nbsp;</span>3. Create a null vector of size 10 (★☆☆)</a></span></li><li><span><a href=\"#4.--How-to-find-the-memory-size-of-any-array-(★☆☆)\" data-toc-modified-id=\"4.--How-to-find-the-memory-size-of-any-array-(★☆☆)-4\"><span class=\"toc-item-num\">4&nbsp;&nbsp;</span>4.  How to find the memory size of any array (★☆☆)</a></span></li><li><span><a href=\"#5.--How-to-get-the-documentation-of-the-numpy-add-function-from-the-command-line?-(★☆☆)\" data-toc-modified-id=\"5.--How-to-get-the-documentation-of-the-numpy-add-function-from-the-command-line?-(★☆☆)-5\"><span class=\"toc-item-num\">5&nbsp;&nbsp;</span>5.  How to get the documentation of the numpy add function from the command line? (★☆☆)</a></span></li><li><span><a href=\"#6.--Create-a-null-vector-of-size-10-but-the-fifth-value-which-is-1-(★☆☆)\" data-toc-modified-id=\"6.--Create-a-null-vector-of-size-10-but-the-fifth-value-which-is-1-(★☆☆)-6\"><span class=\"toc-item-num\">6&nbsp;&nbsp;</span>6.  Create a null vector of size 10 but the fifth value which is 1 (★☆☆)</a></span></li><li><span><a href=\"#7.--Create-a-vector-with-values-ranging-from-10-to-49-(★☆☆)\" data-toc-modified-id=\"7.--Create-a-vector-with-values-ranging-from-10-to-49-(★☆☆)-7\"><span class=\"toc-item-num\">7&nbsp;&nbsp;</span>7.  Create a vector with values ranging from 10 to 49 (★☆☆)</a></span></li><li><span><a href=\"#8.--Reverse-a-vector-(first-element-becomes-last)-(★☆☆)\" data-toc-modified-id=\"8.--Reverse-a-vector-(first-element-becomes-last)-(★☆☆)-8\"><span class=\"toc-item-num\">8&nbsp;&nbsp;</span>8.  Reverse a vector (first element becomes last) (★☆☆)</a></span></li><li><span><a href=\"#9.--Create-a-3x3-matrix-with-values-ranging-from-0-to-8-(★☆☆)\" data-toc-modified-id=\"9.--Create-a-3x3-matrix-with-values-ranging-from-0-to-8-(★☆☆)-9\"><span class=\"toc-item-num\">9&nbsp;&nbsp;</span>9.  Create a 3x3 matrix with values ranging from 0 to 8 (★☆☆)</a></span></li><li><span><a href=\"#10.-Find-indices-of-non-zero-elements-from-[1,2,0,0,4,0]-(★☆☆)\" data-toc-modified-id=\"10.-Find-indices-of-non-zero-elements-from-[1,2,0,0,4,0]-(★☆☆)-10\"><span class=\"toc-item-num\">10&nbsp;&nbsp;</span>10. Find indices of non-zero elements from [1,2,0,0,4,0] (★☆☆)</a></span></li><li><span><a href=\"#11.-Create-a-3x3-identity-matrix-(★☆☆)\" data-toc-modified-id=\"11.-Create-a-3x3-identity-matrix-(★☆☆)-11\"><span class=\"toc-item-num\">11&nbsp;&nbsp;</span>11. Create a 3x3 identity matrix (★☆☆)</a></span></li><li><span><a href=\"#12.-Create-a-3x3x3-array-with-random-values-(★☆☆)\" data-toc-modified-id=\"12.-Create-a-3x3x3-array-with-random-values-(★☆☆)-12\"><span class=\"toc-item-num\">12&nbsp;&nbsp;</span>12. Create a 3x3x3 array with random values (★☆☆)</a></span></li><li><span><a href=\"#13.-Create-a-10x10-array-with-random-values-and-find-the-minimum-and-maximum-values-(★☆☆)\" data-toc-modified-id=\"13.-Create-a-10x10-array-with-random-values-and-find-the-minimum-and-maximum-values-(★☆☆)-13\"><span class=\"toc-item-num\">13&nbsp;&nbsp;</span>13. Create a 10x10 array with random values and find the minimum and maximum values (★☆☆)</a></span></li><li><span><a href=\"#14.-Create-a-random-vector-of-size-30-and-find-the-mean-value-(★☆☆)\" data-toc-modified-id=\"14.-Create-a-random-vector-of-size-30-and-find-the-mean-value-(★☆☆)-14\"><span class=\"toc-item-num\">14&nbsp;&nbsp;</span>14. Create a random vector of size 30 and find the mean value (★☆☆)</a></span></li><li><span><a href=\"#15.-Create-a-2d-array-with-1-on-the-border-and-0-inside-(★☆☆)\" data-toc-modified-id=\"15.-Create-a-2d-array-with-1-on-the-border-and-0-inside-(★☆☆)-15\"><span class=\"toc-item-num\">15&nbsp;&nbsp;</span>15. Create a 2d array with 1 on the border and 0 inside (★☆☆)</a></span></li><li><span><a href=\"#16.-How-to-add-a-border-(filled-with-0's)-around-an-existing-array?-(★☆☆)\" data-toc-modified-id=\"16.-How-to-add-a-border-(filled-with-0's)-around-an-existing-array?-(★☆☆)-16\"><span class=\"toc-item-num\">16&nbsp;&nbsp;</span>16. How to add a border (filled with 0's) around an existing array? (★☆☆)</a></span></li><li><span><a href=\"#17.-What-is-the-result-of-the-following-expression?-(★☆☆)\" data-toc-modified-id=\"17.-What-is-the-result-of-the-following-expression?-(★☆☆)-17\"><span class=\"toc-item-num\">17&nbsp;&nbsp;</span>17. What is the result of the following expression? (★☆☆)</a></span></li><li><span><a href=\"#18.-Create-a-5x5-matrix-with-values-1,2,3,4-just-below-the-diagonal-(★☆☆)\" data-toc-modified-id=\"18.-Create-a-5x5-matrix-with-values-1,2,3,4-just-below-the-diagonal-(★☆☆)-18\"><span class=\"toc-item-num\">18&nbsp;&nbsp;</span>18. Create a 5x5 matrix with values 1,2,3,4 just below the diagonal (★☆☆)</a></span></li><li><span><a href=\"#19.-Create-a-8x8-matrix-and-fill-it-with-a-checkerboard-pattern-(★☆☆)\" data-toc-modified-id=\"19.-Create-a-8x8-matrix-and-fill-it-with-a-checkerboard-pattern-(★☆☆)-19\"><span class=\"toc-item-num\">19&nbsp;&nbsp;</span>19. Create a 8x8 matrix and fill it with a checkerboard pattern (★☆☆)</a></span></li><li><span><a href=\"#20.-Consider-a-(6,7,8)-shape-array,-what-is-the-index-(x,y,z)-of-the-100th-element?\" data-toc-modified-id=\"20.-Consider-a-(6,7,8)-shape-array,-what-is-the-index-(x,y,z)-of-the-100th-element?-20\"><span class=\"toc-item-num\">20&nbsp;&nbsp;</span>20. Consider a (6,7,8) shape array, what is the index (x,y,z) of the 100th element?</a></span></li><li><span><a href=\"#21.-Create-a-checkerboard-8x8-matrix-using-the-tile-function-(★☆☆)\" data-toc-modified-id=\"21.-Create-a-checkerboard-8x8-matrix-using-the-tile-function-(★☆☆)-21\"><span class=\"toc-item-num\">21&nbsp;&nbsp;</span>21. Create a checkerboard 8x8 matrix using the tile function (★☆☆)</a></span></li><li><span><a href=\"#22.-Normalize-a-5x5-random-matrix-(★☆☆)\" data-toc-modified-id=\"22.-Normalize-a-5x5-random-matrix-(★☆☆)-22\"><span class=\"toc-item-num\">22&nbsp;&nbsp;</span>22. Normalize a 5x5 random matrix (★☆☆)</a></span></li><li><span><a href=\"#23.-Create-a-custom-dtype-that-describes-a-color-as-four-unsigned-bytes-(RGBA)-(★☆☆)\" data-toc-modified-id=\"23.-Create-a-custom-dtype-that-describes-a-color-as-four-unsigned-bytes-(RGBA)-(★☆☆)-23\"><span class=\"toc-item-num\">23&nbsp;&nbsp;</span>23. Create a custom dtype that describes a color as four unsigned bytes (RGBA) (★☆☆)</a></span></li><li><span><a href=\"#24.-Multiply-a-5x3-matrix-by-a-3x2-matrix-(real-matrix-product)-(★☆☆)\" data-toc-modified-id=\"24.-Multiply-a-5x3-matrix-by-a-3x2-matrix-(real-matrix-product)-(★☆☆)-24\"><span class=\"toc-item-num\">24&nbsp;&nbsp;</span>24. Multiply a 5x3 matrix by a 3x2 matrix (real matrix product) (★☆☆)</a></span></li><li><span><a href=\"#25.-Given-a-1D-array,-negate-all-elements-which-are-between-3-and-8,-in-place.-(★☆☆)\" data-toc-modified-id=\"25.-Given-a-1D-array,-negate-all-elements-which-are-between-3-and-8,-in-place.-(★☆☆)-25\"><span class=\"toc-item-num\">25&nbsp;&nbsp;</span>25. Given a 1D array, negate all elements which are between 3 and 8, in place. (★☆☆)</a></span></li><li><span><a href=\"#26.-What-is-the-output-of-the-following-script?-(★☆☆)\" data-toc-modified-id=\"26.-What-is-the-output-of-the-following-script?-(★☆☆)-26\"><span class=\"toc-item-num\">26&nbsp;&nbsp;</span>26. What is the output of the following script? (★☆☆)</a></span></li><li><span><a href=\"#27.-Consider-an-integer-vector-Z,-which-of-these-expressions-are-legal?-(★☆☆)\" data-toc-modified-id=\"27.-Consider-an-integer-vector-Z,-which-of-these-expressions-are-legal?-(★☆☆)-27\"><span class=\"toc-item-num\">27&nbsp;&nbsp;</span>27. Consider an integer vector Z, which of these expressions are legal? (★☆☆)</a></span></li><li><span><a href=\"#28.-What-are-the-result-of-the-following-expressions?\" data-toc-modified-id=\"28.-What-are-the-result-of-the-following-expressions?-28\"><span class=\"toc-item-num\">28&nbsp;&nbsp;</span>28. What are the result of the following expressions?</a></span></li><li><span><a href=\"#29.-How-to-round-away-from-zero-a-float-array-?-(★☆☆)\" data-toc-modified-id=\"29.-How-to-round-away-from-zero-a-float-array-?-(★☆☆)-29\"><span class=\"toc-item-num\">29&nbsp;&nbsp;</span>29. How to round away from zero a float array ? (★☆☆)</a></span></li><li><span><a href=\"#30.-How-to-find-common-values-between-two-arrays?-(★☆☆)\" data-toc-modified-id=\"30.-How-to-find-common-values-between-two-arrays?-(★☆☆)-30\"><span class=\"toc-item-num\">30&nbsp;&nbsp;</span>30. How to find common values between two arrays? (★☆☆)</a></span></li><li><span><a href=\"#31.-How-to-ignore-all-numpy-warnings-(not-recommended)?-(★☆☆)\" data-toc-modified-id=\"31.-How-to-ignore-all-numpy-warnings-(not-recommended)?-(★☆☆)-31\"><span class=\"toc-item-num\">31&nbsp;&nbsp;</span>31. How to ignore all numpy warnings (not recommended)? (★☆☆)</a></span></li><li><span><a href=\"#32.-Is-the-following-expressions-true?-(★☆☆)\" data-toc-modified-id=\"32.-Is-the-following-expressions-true?-(★☆☆)-32\"><span class=\"toc-item-num\">32&nbsp;&nbsp;</span>32. Is the following expressions true? (★☆☆)</a></span></li><li><span><a href=\"#33.-How-to-get-the-dates-of-yesterday,-today-and-tomorrow?-(★☆☆)\" data-toc-modified-id=\"33.-How-to-get-the-dates-of-yesterday,-today-and-tomorrow?-(★☆☆)-33\"><span class=\"toc-item-num\">33&nbsp;&nbsp;</span>33. How to get the dates of yesterday, today and tomorrow? (★☆☆)</a></span></li><li><span><a href=\"#34.-How-to-get-all-the-dates-corresponding-to-the-month-of-July-2016?-(★★☆)\" data-toc-modified-id=\"34.-How-to-get-all-the-dates-corresponding-to-the-month-of-July-2016?-(★★☆)-34\"><span class=\"toc-item-num\">34&nbsp;&nbsp;</span>34. How to get all the dates corresponding to the month of July 2016? (★★☆)</a></span></li><li><span><a href=\"#35.-How-to-compute-((A+B)*(-A/2))-in-place-(without-copy)?-(★★☆)\" data-toc-modified-id=\"35.-How-to-compute-((A+B)*(-A/2))-in-place-(without-copy)?-(★★☆)-35\"><span class=\"toc-item-num\">35&nbsp;&nbsp;</span>35. How to compute ((A+B)*(-A/2)) in place (without copy)? (★★☆)</a></span></li><li><span><a href=\"#36.-Extract-the-integer-part-of-a-random-array-using-5-different-methods-(★★☆)\" data-toc-modified-id=\"36.-Extract-the-integer-part-of-a-random-array-using-5-different-methods-(★★☆)-36\"><span class=\"toc-item-num\">36&nbsp;&nbsp;</span>36. Extract the integer part of a random array using 5 different methods (★★☆)</a></span></li><li><span><a href=\"#37.-Create-a-5x5-matrix-with-row-values-ranging-from-0-to-4-(★★☆)\" data-toc-modified-id=\"37.-Create-a-5x5-matrix-with-row-values-ranging-from-0-to-4-(★★☆)-37\"><span class=\"toc-item-num\">37&nbsp;&nbsp;</span>37. Create a 5x5 matrix with row values ranging from 0 to 4 (★★☆)</a></span></li><li><span><a href=\"#38.-Consider-a-generator-function-that-generates-10-integers-and-use-it-to-build-an-array-(★☆☆)\" data-toc-modified-id=\"38.-Consider-a-generator-function-that-generates-10-integers-and-use-it-to-build-an-array-(★☆☆)-38\"><span class=\"toc-item-num\">38&nbsp;&nbsp;</span>38. Consider a generator function that generates 10 integers and use it to build an array (★☆☆)</a></span></li><li><span><a href=\"#39.-Create-a-vector-of-size-10-with-values-ranging-from-0-to-1,-both-excluded-(★★☆)\" data-toc-modified-id=\"39.-Create-a-vector-of-size-10-with-values-ranging-from-0-to-1,-both-excluded-(★★☆)-39\"><span class=\"toc-item-num\">39&nbsp;&nbsp;</span>39. Create a vector of size 10 with values ranging from 0 to 1, both excluded (★★☆)</a></span></li><li><span><a href=\"#40.-Create-a-random-vector-of-size-10-and-sort-it-(★★☆)\" data-toc-modified-id=\"40.-Create-a-random-vector-of-size-10-and-sort-it-(★★☆)-40\"><span class=\"toc-item-num\">40&nbsp;&nbsp;</span>40. Create a random vector of size 10 and sort it (★★☆)</a></span></li><li><span><a href=\"#41.-How-to-sum-a-small-array-faster-than-np.sum?-(★★☆)\" data-toc-modified-id=\"41.-How-to-sum-a-small-array-faster-than-np.sum?-(★★☆)-41\"><span class=\"toc-item-num\">41&nbsp;&nbsp;</span>41. How to sum a small array faster than np.sum? (★★☆)</a></span></li><li><span><a href=\"#42.-Consider-two-random-array-A-and-B,-check-if-they-are-equal-(★★☆)\" data-toc-modified-id=\"42.-Consider-two-random-array-A-and-B,-check-if-they-are-equal-(★★☆)-42\"><span class=\"toc-item-num\">42&nbsp;&nbsp;</span>42. Consider two random array A and B, check if they are equal (★★☆)</a></span></li><li><span><a href=\"#43.-Make-an-array-immutable-(read-only)-(★★☆)\" data-toc-modified-id=\"43.-Make-an-array-immutable-(read-only)-(★★☆)-43\"><span class=\"toc-item-num\">43&nbsp;&nbsp;</span>43. Make an array immutable (read-only) (★★☆)</a></span></li><li><span><a href=\"#44.-Consider-a-random-10x2-matrix-representing-cartesian-coordinates,-convert-them-to-polar-coordinates-(★★☆)\" data-toc-modified-id=\"44.-Consider-a-random-10x2-matrix-representing-cartesian-coordinates,-convert-them-to-polar-coordinates-(★★☆)-44\"><span class=\"toc-item-num\">44&nbsp;&nbsp;</span>44. Consider a random 10x2 matrix representing cartesian coordinates, convert them to polar coordinates (★★☆)</a></span></li><li><span><a href=\"#45.-Create-random-vector-of-size-10-and-replace-the-maximum-value-by-0-(★★☆)\" data-toc-modified-id=\"45.-Create-random-vector-of-size-10-and-replace-the-maximum-value-by-0-(★★☆)-45\"><span class=\"toc-item-num\">45&nbsp;&nbsp;</span>45. Create random vector of size 10 and replace the maximum value by 0 (★★☆)</a></span></li><li><span><a href=\"#46.-Create-a-structured-array-with-x-and-y-coordinates-covering-the-[0,1]x[0,1]-area-(★★☆)\" data-toc-modified-id=\"46.-Create-a-structured-array-with-x-and-y-coordinates-covering-the-[0,1]x[0,1]-area-(★★☆)-46\"><span class=\"toc-item-num\">46&nbsp;&nbsp;</span>46. Create a structured array with <code>x</code> and <code>y</code> coordinates covering the [0,1]x[0,1] area (★★☆)</a></span></li><li><span><a href=\"#47.-Given-two-arrays,-X-and-Y,-construct-the-Cauchy-matrix-C-(Cij-=1/(xi---yj))\" data-toc-modified-id=\"47.-Given-two-arrays,-X-and-Y,-construct-the-Cauchy-matrix-C-(Cij-=1/(xi---yj))-47\"><span class=\"toc-item-num\">47&nbsp;&nbsp;</span>47. Given two arrays, X and Y, construct the Cauchy matrix C (Cij =1/(xi - yj))</a></span></li><li><span><a href=\"#48.-Print-the-minimum-and-maximum-representable-value-for-each-numpy-scalar-type-(★★☆)\" data-toc-modified-id=\"48.-Print-the-minimum-and-maximum-representable-value-for-each-numpy-scalar-type-(★★☆)-48\"><span class=\"toc-item-num\">48&nbsp;&nbsp;</span>48. Print the minimum and maximum representable value for each numpy scalar type (★★☆)</a></span></li><li><span><a href=\"#49.-How-to-print-all-the-values-of-an-array?-(★★☆)\" data-toc-modified-id=\"49.-How-to-print-all-the-values-of-an-array?-(★★☆)-49\"><span class=\"toc-item-num\">49&nbsp;&nbsp;</span>49. How to print all the values of an array? (★★☆)</a></span></li><li><span><a href=\"#50.-How-to-find-the-closest-value-(to-a-given-scalar)-in-a-vector?-(★★☆)\" data-toc-modified-id=\"50.-How-to-find-the-closest-value-(to-a-given-scalar)-in-a-vector?-(★★☆)-50\"><span class=\"toc-item-num\">50&nbsp;&nbsp;</span>50. How to find the closest value (to a given scalar) in a vector? (★★☆)</a></span></li><li><span><a href=\"#51.-Create-a-structured-array-representing-a-position-(x,y)-and-a-color-(r,g,b)-(★★☆)\" data-toc-modified-id=\"51.-Create-a-structured-array-representing-a-position-(x,y)-and-a-color-(r,g,b)-(★★☆)-51\"><span class=\"toc-item-num\">51&nbsp;&nbsp;</span>51. Create a structured array representing a position (x,y) and a color (r,g,b) (★★☆)</a></span></li><li><span><a href=\"#52.-Consider-a-random-vector-with-shape-(100,2)-representing-coordinates,-find-point-by-point-distances-(★★☆)\" data-toc-modified-id=\"52.-Consider-a-random-vector-with-shape-(100,2)-representing-coordinates,-find-point-by-point-distances-(★★☆)-52\"><span class=\"toc-item-num\">52&nbsp;&nbsp;</span>52. Consider a random vector with shape (100,2) representing coordinates, find point by point distances (★★☆)</a></span></li><li><span><a href=\"#53.-How-to-convert-a-float-(32-bits)-array-into-an-integer-(32-bits)-in-place?\" data-toc-modified-id=\"53.-How-to-convert-a-float-(32-bits)-array-into-an-integer-(32-bits)-in-place?-53\"><span class=\"toc-item-num\">53&nbsp;&nbsp;</span>53. How to convert a float (32 bits) array into an integer (32 bits) in place?</a></span></li><li><span><a href=\"#54.-How-to-read-the-following-file?-(★★☆)\" data-toc-modified-id=\"54.-How-to-read-the-following-file?-(★★☆)-54\"><span class=\"toc-item-num\">54&nbsp;&nbsp;</span>54. How to read the following file? (★★☆)</a></span></li><li><span><a href=\"#55.-What-is-the-equivalent-of-enumerate-for-numpy-arrays?-(★★☆)\" data-toc-modified-id=\"55.-What-is-the-equivalent-of-enumerate-for-numpy-arrays?-(★★☆)-55\"><span class=\"toc-item-num\">55&nbsp;&nbsp;</span>55. What is the equivalent of enumerate for numpy arrays? (★★☆)</a></span></li><li><span><a href=\"#56.-Generate-a-generic-2D-Gaussian-like-array-(★★☆)\" data-toc-modified-id=\"56.-Generate-a-generic-2D-Gaussian-like-array-(★★☆)-56\"><span class=\"toc-item-num\">56&nbsp;&nbsp;</span>56. Generate a generic 2D Gaussian-like array (★★☆)</a></span></li><li><span><a href=\"#57.-How-to-randomly-place-p-elements-in-a-2D-array?-(★★☆)\" data-toc-modified-id=\"57.-How-to-randomly-place-p-elements-in-a-2D-array?-(★★☆)-57\"><span class=\"toc-item-num\">57&nbsp;&nbsp;</span>57. How to randomly place p elements in a 2D array? (★★☆)</a></span></li><li><span><a href=\"#58.-Subtract-the-mean-of-each-row-of-a-matrix-(★★☆)\" data-toc-modified-id=\"58.-Subtract-the-mean-of-each-row-of-a-matrix-(★★☆)-58\"><span class=\"toc-item-num\">58&nbsp;&nbsp;</span>58. Subtract the mean of each row of a matrix (★★☆)</a></span></li><li><span><a href=\"#59.-How-to-sort-an-array-by-the-nth-column?-(★★☆)\" data-toc-modified-id=\"59.-How-to-sort-an-array-by-the-nth-column?-(★★☆)-59\"><span class=\"toc-item-num\">59&nbsp;&nbsp;</span>59. How to sort an array by the nth column? (★★☆)</a></span></li><li><span><a href=\"#60.-How-to-tell-if-a-given-2D-array-has-null-columns?-(★★☆)\" data-toc-modified-id=\"60.-How-to-tell-if-a-given-2D-array-has-null-columns?-(★★☆)-60\"><span class=\"toc-item-num\">60&nbsp;&nbsp;</span>60. How to tell if a given 2D array has null columns? (★★☆)</a></span></li><li><span><a href=\"#61.-Find-the-nearest-value-from-a-given-value-in-an-array-(★★☆)\" data-toc-modified-id=\"61.-Find-the-nearest-value-from-a-given-value-in-an-array-(★★☆)-61\"><span class=\"toc-item-num\">61&nbsp;&nbsp;</span>61. Find the nearest value from a given value in an array (★★☆)</a></span></li><li><span><a href=\"#62.-Considering-two-arrays-with-shape-(1,3)-and-(3,1),-how-to-compute-their-sum-using-an-iterator?-(★★☆)\" data-toc-modified-id=\"62.-Considering-two-arrays-with-shape-(1,3)-and-(3,1),-how-to-compute-their-sum-using-an-iterator?-(★★☆)-62\"><span class=\"toc-item-num\">62&nbsp;&nbsp;</span>62. Considering two arrays with shape (1,3) and (3,1), how to compute their sum using an iterator? (★★☆)</a></span></li><li><span><a href=\"#63.-Create-an-array-class-that-has-a-name-attribute-(★★☆)\" data-toc-modified-id=\"63.-Create-an-array-class-that-has-a-name-attribute-(★★☆)-63\"><span class=\"toc-item-num\">63&nbsp;&nbsp;</span>63. Create an array class that has a name attribute (★★☆)</a></span></li><li><span><a href=\"#64.-Consider-a-given-vector,-how-to-add-1-to-each-element-indexed-by-a-second-vector-(be-careful-with-repeated-indices)?-(★★★)\" data-toc-modified-id=\"64.-Consider-a-given-vector,-how-to-add-1-to-each-element-indexed-by-a-second-vector-(be-careful-with-repeated-indices)?-(★★★)-64\"><span class=\"toc-item-num\">64&nbsp;&nbsp;</span>64. Consider a given vector, how to add 1 to each element indexed by a second vector (be careful with repeated indices)? (★★★)</a></span></li><li><span><a href=\"#65.-How-to-accumulate-elements-of-a-vector-(X)-to-an-array-(F)-based-on-an-index-list-(I)?-(★★★)\" data-toc-modified-id=\"65.-How-to-accumulate-elements-of-a-vector-(X)-to-an-array-(F)-based-on-an-index-list-(I)?-(★★★)-65\"><span class=\"toc-item-num\">65&nbsp;&nbsp;</span>65. How to accumulate elements of a vector (X) to an array (F) based on an index list (I)? (★★★)</a></span></li><li><span><a href=\"#66.-Considering-a-(w,h,3)-image-of-(dtype=ubyte),-compute-the-number-of-unique-colors-(★★★)\" data-toc-modified-id=\"66.-Considering-a-(w,h,3)-image-of-(dtype=ubyte),-compute-the-number-of-unique-colors-(★★★)-66\"><span class=\"toc-item-num\">66&nbsp;&nbsp;</span>66. Considering a (w,h,3) image of (dtype=ubyte), compute the number of unique colors (★★★)</a></span></li><li><span><a href=\"#67.-Considering-a-four-dimensions-array,-how-to-get-sum-over-the-last-two-axis-at-once?-(★★★)\" data-toc-modified-id=\"67.-Considering-a-four-dimensions-array,-how-to-get-sum-over-the-last-two-axis-at-once?-(★★★)-67\"><span class=\"toc-item-num\">67&nbsp;&nbsp;</span>67. Considering a four dimensions array, how to get sum over the last two axis at once? (★★★)</a></span></li><li><span><a href=\"#68.-Considering-a-one-dimensional-vector-D,-how-to-compute-means-of-subsets-of-D-using-a-vector-S-of-same-size-describing-subset--indices?-(★★★)\" data-toc-modified-id=\"68.-Considering-a-one-dimensional-vector-D,-how-to-compute-means-of-subsets-of-D-using-a-vector-S-of-same-size-describing-subset--indices?-(★★★)-68\"><span class=\"toc-item-num\">68&nbsp;&nbsp;</span>68. Considering a one-dimensional vector D, how to compute means of subsets of D using a vector S of same size describing subset  indices? (★★★)</a></span></li><li><span><a href=\"#69.-How-to-get-the-diagonal-of-a-dot-product?-(★★★)\" data-toc-modified-id=\"69.-How-to-get-the-diagonal-of-a-dot-product?-(★★★)-69\"><span class=\"toc-item-num\">69&nbsp;&nbsp;</span>69. How to get the diagonal of a dot product? (★★★)</a></span></li><li><span><a href=\"#70.-Consider-the-vector-[1,-2,-3,-4,-5],-how-to-build-a-new-vector-with-3-consecutive-zeros-interleaved-between-each-value?-(★★★)\" data-toc-modified-id=\"70.-Consider-the-vector-[1,-2,-3,-4,-5],-how-to-build-a-new-vector-with-3-consecutive-zeros-interleaved-between-each-value?-(★★★)-70\"><span class=\"toc-item-num\">70&nbsp;&nbsp;</span>70. Consider the vector [1, 2, 3, 4, 5], how to build a new vector with 3 consecutive zeros interleaved between each value? (★★★)</a></span></li><li><span><a href=\"#71.-Consider-an-array-of-dimension-(5,5,3),-how-to-mulitply-it-by-an-array-with-dimensions-(5,5)?-(★★★)\" data-toc-modified-id=\"71.-Consider-an-array-of-dimension-(5,5,3),-how-to-mulitply-it-by-an-array-with-dimensions-(5,5)?-(★★★)-71\"><span class=\"toc-item-num\">71&nbsp;&nbsp;</span>71. Consider an array of dimension (5,5,3), how to mulitply it by an array with dimensions (5,5)? (★★★)</a></span></li><li><span><a href=\"#72.-How-to-swap-two-rows-of-an-array?-(★★★)\" data-toc-modified-id=\"72.-How-to-swap-two-rows-of-an-array?-(★★★)-72\"><span class=\"toc-item-num\">72&nbsp;&nbsp;</span>72. How to swap two rows of an array? (★★★)</a></span></li><li><span><a href=\"#73.-Consider-a-set-of-10-triplets-describing-10-triangles-(with-shared-vertices),-find-the-set-of-unique-line-segments-composing-all-the--triangles-(★★★)\" data-toc-modified-id=\"73.-Consider-a-set-of-10-triplets-describing-10-triangles-(with-shared-vertices),-find-the-set-of-unique-line-segments-composing-all-the--triangles-(★★★)-73\"><span class=\"toc-item-num\">73&nbsp;&nbsp;</span>73. Consider a set of 10 triplets describing 10 triangles (with shared vertices), find the set of unique line segments composing all the  triangles (★★★)</a></span></li><li><span><a href=\"#74.-Given-an-array-C-that-is-a-bincount,-how-to-produce-an-array-A-such-that-np.bincount(A)-==-C?-(★★★)\" data-toc-modified-id=\"74.-Given-an-array-C-that-is-a-bincount,-how-to-produce-an-array-A-such-that-np.bincount(A)-==-C?-(★★★)-74\"><span class=\"toc-item-num\">74&nbsp;&nbsp;</span>74. Given an array C that is a bincount, how to produce an array A such that np.bincount(A) == C? (★★★)</a></span></li><li><span><a href=\"#75.-How-to-compute-averages-using-a-sliding-window-over-an-array?-(★★★)\" data-toc-modified-id=\"75.-How-to-compute-averages-using-a-sliding-window-over-an-array?-(★★★)-75\"><span class=\"toc-item-num\">75&nbsp;&nbsp;</span>75. How to compute averages using a sliding window over an array? (★★★)</a></span></li><li><span><a href=\"#76.-Consider-a-one-dimensional-array-Z,-build-a-two-dimensional-array-whose-first-row-is-(Z[0],Z[1],Z[2])-and-each-subsequent-row-is--shifted-by-1-(last-row-should-be-(Z[-3],Z[-2],Z[-1])-(★★★)\" data-toc-modified-id=\"76.-Consider-a-one-dimensional-array-Z,-build-a-two-dimensional-array-whose-first-row-is-(Z[0],Z[1],Z[2])-and-each-subsequent-row-is--shifted-by-1-(last-row-should-be-(Z[-3],Z[-2],Z[-1])-(★★★)-76\"><span class=\"toc-item-num\">76&nbsp;&nbsp;</span>76. Consider a one-dimensional array Z, build a two-dimensional array whose first row is (Z[0],Z[1],Z[2]) and each subsequent row is  shifted by 1 (last row should be (Z[-3],Z[-2],Z[-1]) (★★★)</a></span></li><li><span><a href=\"#77.-How-to-negate-a-boolean,-or-to-change-the-sign-of-a-float-inplace?-(★★★)\" data-toc-modified-id=\"77.-How-to-negate-a-boolean,-or-to-change-the-sign-of-a-float-inplace?-(★★★)-77\"><span class=\"toc-item-num\">77&nbsp;&nbsp;</span>77. How to negate a boolean, or to change the sign of a float inplace? (★★★)</a></span></li><li><span><a href=\"#78.-Consider-2-sets-of-points-P0,P1-describing-lines-(2d)-and-a-point-p,-how-to-compute-distance-from-p-to-each-line-i--(P0[i],P1[i])?-(★★★)\" data-toc-modified-id=\"78.-Consider-2-sets-of-points-P0,P1-describing-lines-(2d)-and-a-point-p,-how-to-compute-distance-from-p-to-each-line-i--(P0[i],P1[i])?-(★★★)-78\"><span class=\"toc-item-num\">78&nbsp;&nbsp;</span>78. Consider 2 sets of points P0,P1 describing lines (2d) and a point p, how to compute distance from p to each line i  (P0[i],P1[i])? (★★★)</a></span></li><li><span><a href=\"#79.-Consider-2-sets-of-points-P0,P1-describing-lines-(2d)-and-a-set-of-points-P,-how-to-compute-distance-from-each-point-j-(P[j])-to-each-line-i-(P0[i],P1[i])?-(★★★)\" data-toc-modified-id=\"79.-Consider-2-sets-of-points-P0,P1-describing-lines-(2d)-and-a-set-of-points-P,-how-to-compute-distance-from-each-point-j-(P[j])-to-each-line-i-(P0[i],P1[i])?-(★★★)-79\"><span class=\"toc-item-num\">79&nbsp;&nbsp;</span>79. Consider 2 sets of points P0,P1 describing lines (2d) and a set of points P, how to compute distance from each point j (P[j]) to each line i (P0[i],P1[i])? (★★★)</a></span></li><li><span><a href=\"#80.-Consider-an-arbitrary-array,-write-a-function-that-extract-a-subpart-with-a-fixed-shape-and-centered-on-a-given-element-(pad-with-a-fill-value-when-necessary)-(★★★)\" data-toc-modified-id=\"80.-Consider-an-arbitrary-array,-write-a-function-that-extract-a-subpart-with-a-fixed-shape-and-centered-on-a-given-element-(pad-with-a-fill-value-when-necessary)-(★★★)-80\"><span class=\"toc-item-num\">80&nbsp;&nbsp;</span>80. Consider an arbitrary array, write a function that extract a subpart with a fixed shape and centered on a given element (pad with a <code>fill</code> value when necessary) (★★★)</a></span></li><li><span><a href=\"#81.-Consider-an-array-Z-=-[1,2,3,4,5,6,7,8,9,10,11,12,13,14],-how-to-generate-an-array-R-=-[[1,2,3,4],-[2,3,4,5],-[3,4,5,6],-...,-[11,12,13,14]]?-(★★★)\" data-toc-modified-id=\"81.-Consider-an-array-Z-=-[1,2,3,4,5,6,7,8,9,10,11,12,13,14],-how-to-generate-an-array-R-=-[[1,2,3,4],-[2,3,4,5],-[3,4,5,6],-...,-[11,12,13,14]]?-(★★★)-81\"><span class=\"toc-item-num\">81&nbsp;&nbsp;</span>81. Consider an array Z = [1,2,3,4,5,6,7,8,9,10,11,12,13,14], how to generate an array R = [[1,2,3,4], [2,3,4,5], [3,4,5,6], ..., [11,12,13,14]]? (★★★)</a></span></li><li><span><a href=\"#82.-Compute-a-matrix-rank-(★★★)\" data-toc-modified-id=\"82.-Compute-a-matrix-rank-(★★★)-82\"><span class=\"toc-item-num\">82&nbsp;&nbsp;</span>82. Compute a matrix rank (★★★)</a></span></li><li><span><a href=\"#83.-How-to-find-the-most-frequent-value-in-an-array?\" data-toc-modified-id=\"83.-How-to-find-the-most-frequent-value-in-an-array?-83\"><span class=\"toc-item-num\">83&nbsp;&nbsp;</span>83. How to find the most frequent value in an array?</a></span></li><li><span><a href=\"#84.-Extract-all-the-contiguous-3x3-blocks-from-a-random-10x10-matrix-(★★★)\" data-toc-modified-id=\"84.-Extract-all-the-contiguous-3x3-blocks-from-a-random-10x10-matrix-(★★★)-84\"><span class=\"toc-item-num\">84&nbsp;&nbsp;</span>84. Extract all the contiguous 3x3 blocks from a random 10x10 matrix (★★★)</a></span></li><li><span><a href=\"#85.-Create-a-2D-array-subclass-such-that-Z[i,j]-==-Z[j,i]-(★★★)\" data-toc-modified-id=\"85.-Create-a-2D-array-subclass-such-that-Z[i,j]-==-Z[j,i]-(★★★)-85\"><span class=\"toc-item-num\">85&nbsp;&nbsp;</span>85. Create a 2D array subclass such that Z[i,j] == Z[j,i] (★★★)</a></span></li><li><span><a href=\"#86.-Consider-a-set-of-p-matrices-wich-shape-(n,n)-and-a-set-of-p-vectors-with-shape-(n,1).-How-to-compute-the-sum-of-of-the-p-matrix-products-at-once?-(result-has-shape-(n,1))-(★★★)\" data-toc-modified-id=\"86.-Consider-a-set-of-p-matrices-wich-shape-(n,n)-and-a-set-of-p-vectors-with-shape-(n,1).-How-to-compute-the-sum-of-of-the-p-matrix-products-at-once?-(result-has-shape-(n,1))-(★★★)-86\"><span class=\"toc-item-num\">86&nbsp;&nbsp;</span>86. Consider a set of p matrices wich shape (n,n) and a set of p vectors with shape (n,1). How to compute the sum of of the p matrix products at once? (result has shape (n,1)) (★★★)</a></span></li><li><span><a href=\"#87.-Consider-a-16x16-array,-how-to-get-the-block-sum-(block-size-is-4x4)?-(★★★)\" data-toc-modified-id=\"87.-Consider-a-16x16-array,-how-to-get-the-block-sum-(block-size-is-4x4)?-(★★★)-87\"><span class=\"toc-item-num\">87&nbsp;&nbsp;</span>87. Consider a 16x16 array, how to get the block-sum (block size is 4x4)? (★★★)</a></span></li><li><span><a href=\"#88.-How-to-implement-the-Game-of-Life-using-numpy-arrays?-(★★★)\" data-toc-modified-id=\"88.-How-to-implement-the-Game-of-Life-using-numpy-arrays?-(★★★)-88\"><span class=\"toc-item-num\">88&nbsp;&nbsp;</span>88. How to implement the Game of Life using numpy arrays? (★★★)</a></span></li><li><span><a href=\"#89.-How-to-get-the-n-largest-values-of-an-array-(★★★)\" data-toc-modified-id=\"89.-How-to-get-the-n-largest-values-of-an-array-(★★★)-89\"><span class=\"toc-item-num\">89&nbsp;&nbsp;</span>89. How to get the n largest values of an array (★★★)</a></span></li><li><span><a href=\"#90.-Given-an-arbitrary-number-of-vectors,-build-the-cartesian-product-(every-combinations-of-every-item)-(★★★)\" data-toc-modified-id=\"90.-Given-an-arbitrary-number-of-vectors,-build-the-cartesian-product-(every-combinations-of-every-item)-(★★★)-90\"><span class=\"toc-item-num\">90&nbsp;&nbsp;</span>90. Given an arbitrary number of vectors, build the cartesian product (every combinations of every item) (★★★)</a></span></li><li><span><a href=\"#91.-How-to-create-a-record-array-from-a-regular-array?-(★★★)\" data-toc-modified-id=\"91.-How-to-create-a-record-array-from-a-regular-array?-(★★★)-91\"><span class=\"toc-item-num\">91&nbsp;&nbsp;</span>91. How to create a record array from a regular array? (★★★)</a></span></li><li><span><a href=\"#92.-Consider-a-large-vector-Z,-compute-Z-to-the-power-of-3-using-3-different-methods-(★★★)\" data-toc-modified-id=\"92.-Consider-a-large-vector-Z,-compute-Z-to-the-power-of-3-using-3-different-methods-(★★★)-92\"><span class=\"toc-item-num\">92&nbsp;&nbsp;</span>92. Consider a large vector Z, compute Z to the power of 3 using 3 different methods (★★★)</a></span></li><li><span><a href=\"#93.-Consider-two-arrays-A-and-B-of-shape-(8,3)-and-(2,2).-How-to-find-rows-of-A-that-contain-elements-of-each-row-of-B-regardless-of-the-order-of-the-elements-in-B?-(★★★)\" data-toc-modified-id=\"93.-Consider-two-arrays-A-and-B-of-shape-(8,3)-and-(2,2).-How-to-find-rows-of-A-that-contain-elements-of-each-row-of-B-regardless-of-the-order-of-the-elements-in-B?-(★★★)-93\"><span class=\"toc-item-num\">93&nbsp;&nbsp;</span>93. Consider two arrays A and B of shape (8,3) and (2,2). How to find rows of A that contain elements of each row of B regardless of the order of the elements in B? (★★★)</a></span></li><li><span><a href=\"#94.-Considering-a-10x3-matrix,-extract-rows-with-unequal-values-(e.g.-[2,2,3])-(★★★)\" data-toc-modified-id=\"94.-Considering-a-10x3-matrix,-extract-rows-with-unequal-values-(e.g.-[2,2,3])-(★★★)-94\"><span class=\"toc-item-num\">94&nbsp;&nbsp;</span>94. Considering a 10x3 matrix, extract rows with unequal values (e.g. [2,2,3]) (★★★)</a></span></li><li><span><a href=\"#95.-Convert-a-vector-of-ints-into-a-matrix-binary-representation-(★★★)\" data-toc-modified-id=\"95.-Convert-a-vector-of-ints-into-a-matrix-binary-representation-(★★★)-95\"><span class=\"toc-item-num\">95&nbsp;&nbsp;</span>95. Convert a vector of ints into a matrix binary representation (★★★)</a></span></li><li><span><a href=\"#96.-Given-a-two-dimensional-array,-how-to-extract-unique-rows?-(★★★)\" data-toc-modified-id=\"96.-Given-a-two-dimensional-array,-how-to-extract-unique-rows?-(★★★)-96\"><span class=\"toc-item-num\">96&nbsp;&nbsp;</span>96. Given a two dimensional array, how to extract unique rows? (★★★)</a></span></li><li><span><a href=\"#97.-Considering-2-vectors-A-&amp;-B,-write-the-einsum-equivalent-of-inner,-outer,-sum,-and-mul-function-(★★★)\" data-toc-modified-id=\"97.-Considering-2-vectors-A-&amp;-B,-write-the-einsum-equivalent-of-inner,-outer,-sum,-and-mul-function-(★★★)-97\"><span class=\"toc-item-num\">97&nbsp;&nbsp;</span>97. Considering 2 vectors A &amp; B, write the einsum equivalent of inner, outer, sum, and mul function (★★★)</a></span></li><li><span><a href=\"#98.-Considering-a-path-described-by-two-vectors-(X,Y),-how-to-sample-it-using-equidistant-samples-(★★★)?\" data-toc-modified-id=\"98.-Considering-a-path-described-by-two-vectors-(X,Y),-how-to-sample-it-using-equidistant-samples-(★★★)?-98\"><span class=\"toc-item-num\">98&nbsp;&nbsp;</span>98. Considering a path described by two vectors (X,Y), how to sample it using equidistant samples (★★★)?</a></span></li><li><span><a href=\"#99.-Given-an-integer-n-and-a-2D-array-X,-select-from-X-the-rows-which-can-be-interpreted-as-draws-from-a-multinomial-distribution-with-n-degrees,-i.e.,-the-rows-which-only-contain-integers-and-which-sum-to-n.-(★★★)\" data-toc-modified-id=\"99.-Given-an-integer-n-and-a-2D-array-X,-select-from-X-the-rows-which-can-be-interpreted-as-draws-from-a-multinomial-distribution-with-n-degrees,-i.e.,-the-rows-which-only-contain-integers-and-which-sum-to-n.-(★★★)-99\"><span class=\"toc-item-num\">99&nbsp;&nbsp;</span>99. Given an integer n and a 2D array X, select from X the rows which can be interpreted as draws from a multinomial distribution with n degrees, i.e., the rows which only contain integers and which sum to n. (★★★)</a></span></li><li><span><a href=\"#100.-Compute-bootstrapped-95%-confidence-intervals-for-the-mean-of-a-1D-array-X-(i.e.,-resample-the-elements-of-an-array-with-replacement-N-times,-compute-the-mean-of-each-sample,-and-then-compute-percentiles-over-the-means).-(★★★)\" data-toc-modified-id=\"100.-Compute-bootstrapped-95%-confidence-intervals-for-the-mean-of-a-1D-array-X-(i.e.,-resample-the-elements-of-an-array-with-replacement-N-times,-compute-the-mean-of-each-sample,-and-then-compute-percentiles-over-the-means).-(★★★)-100\"><span class=\"toc-item-num\">100&nbsp;&nbsp;</span>100. Compute bootstrapped 95% confidence intervals for the mean of a 1D array X (i.e., resample the elements of an array with replacement N times, compute the mean of each sample, and then compute percentiles over the means). (★★★)</a></span></li></ul></div>"
   ]
  },
  {
   "cell_type": "markdown",
   "metadata": {
    "id": "tYje5As2yBtJ"
   },
   "source": [
    "# 100 ejercicios de numpy  con pistas"
   ]
  },
  {
   "cell_type": "markdown",
   "metadata": {
    "id": "O5GhrY_PezIz"
   },
   "source": [
    "![](https://www.saturdays.ai/images/logo.png)"
   ]
  },
  {
   "cell_type": "markdown",
   "metadata": {
    "id": "EtRXArzayBtK"
   },
   "source": [
    "#### 1. Import the numpy package under the name `np` (★☆☆) \n",
    "(**hint**: import … as …)"
   ]
  },
  {
   "cell_type": "code",
   "execution_count": null,
   "metadata": {
    "id": "VEfkkdRPyBtO"
   },
   "outputs": [],
   "source": []
  },
  {
   "cell_type": "markdown",
   "metadata": {
    "id": "KFssZfgbyBtU"
   },
   "source": [
    "#### 2. Print the numpy version and the configuration (★☆☆) \n",
    "(**hint**: np.\\_\\_version\\_\\_, np.show\\_config)"
   ]
  },
  {
   "cell_type": "code",
   "execution_count": null,
   "metadata": {
    "id": "4Rz1P3mHyBtW"
   },
   "outputs": [],
   "source": []
  },
  {
   "cell_type": "markdown",
   "metadata": {
    "id": "qh6LmqbIyBtb"
   },
   "source": [
    "#### 3. Create a null vector of size 10 (★☆☆) \n",
    "(**hint**: np.zeros)"
   ]
  },
  {
   "cell_type": "code",
   "execution_count": null,
   "metadata": {
    "id": "rLdpAWuEyBtc"
   },
   "outputs": [],
   "source": []
  },
  {
   "cell_type": "markdown",
   "metadata": {
    "id": "wFk1E5S1yBtf"
   },
   "source": [
    "#### 4.  How to find the memory size of any array (★☆☆) \n",
    "(**hint**: size, itemsize)"
   ]
  },
  {
   "cell_type": "code",
   "execution_count": null,
   "metadata": {
    "id": "8OIIg7GoyBth"
   },
   "outputs": [],
   "source": []
  },
  {
   "cell_type": "markdown",
   "metadata": {
    "id": "dWRT5-9AyBt3"
   },
   "source": [
    "#### 5.  How to get the documentation of the numpy add function from the command line? (★☆☆) \n",
    "(**hint**: np.info)"
   ]
  },
  {
   "cell_type": "code",
   "execution_count": null,
   "metadata": {
    "id": "LqXrwWpryBt4"
   },
   "outputs": [],
   "source": []
  },
  {
   "cell_type": "markdown",
   "metadata": {
    "id": "ZWkXJUbdyBt9"
   },
   "source": [
    "#### 6.  Create a null vector of size 10 but the fifth value which is 1 (★☆☆) \n",
    "(**hint**: array\\[4\\])"
   ]
  },
  {
   "cell_type": "code",
   "execution_count": null,
   "metadata": {
    "id": "f88zknb_yBt9"
   },
   "outputs": [],
   "source": []
  },
  {
   "cell_type": "markdown",
   "metadata": {
    "id": "stycF0H2yBuE"
   },
   "source": [
    "#### 7.  Create a vector with values ranging from 10 to 49 (★☆☆) \n",
    "(**hint**: np.arange)"
   ]
  },
  {
   "cell_type": "code",
   "execution_count": null,
   "metadata": {
    "id": "qD0w188-yBuF"
   },
   "outputs": [],
   "source": []
  },
  {
   "cell_type": "markdown",
   "metadata": {
    "id": "rMx2-w4xyBuI"
   },
   "source": [
    "#### 8.  Reverse a vector (first element becomes last) (★☆☆) \n",
    "(**hint**: array\\[::-1\\])"
   ]
  },
  {
   "cell_type": "code",
   "execution_count": null,
   "metadata": {
    "id": "e4-9no50yBuJ"
   },
   "outputs": [],
   "source": []
  },
  {
   "cell_type": "markdown",
   "metadata": {
    "id": "s7ieI3Q6yBuM"
   },
   "source": [
    "#### 9.  Create a 3x3 matrix with values ranging from 0 to 8 (★☆☆) \n",
    "(**hint**: reshape)"
   ]
  },
  {
   "cell_type": "code",
   "execution_count": null,
   "metadata": {
    "id": "ymTDkowNyBuN"
   },
   "outputs": [],
   "source": []
  },
  {
   "cell_type": "markdown",
   "metadata": {
    "id": "Gd7zGqFIyBuQ"
   },
   "source": [
    "#### 10. Find indices of non-zero elements from \\[1,2,0,0,4,0\\] (★☆☆) \n",
    "(**hint**: np.nonzero)"
   ]
  },
  {
   "cell_type": "code",
   "execution_count": null,
   "metadata": {
    "id": "43NIdnc9yBuQ"
   },
   "outputs": [],
   "source": []
  },
  {
   "cell_type": "markdown",
   "metadata": {
    "id": "eTtbniN6yBuU"
   },
   "source": [
    "#### 11. Create a 3x3 identity matrix (★☆☆) \n",
    "(**hint**: np.eye)"
   ]
  },
  {
   "cell_type": "code",
   "execution_count": null,
   "metadata": {
    "id": "l1vJ1OT8yBuV"
   },
   "outputs": [],
   "source": []
  },
  {
   "cell_type": "markdown",
   "metadata": {
    "id": "-VQZpx9KyBub"
   },
   "source": [
    "#### 12. Create a 3x3x3 array with random values (★☆☆) \n",
    "(**hint**: np.random.random)"
   ]
  },
  {
   "cell_type": "code",
   "execution_count": null,
   "metadata": {
    "collapsed": true,
    "id": "AZNkR2EwyBue"
   },
   "outputs": [],
   "source": []
  },
  {
   "cell_type": "markdown",
   "metadata": {
    "id": "WZJ67f6vyBus"
   },
   "source": [
    "#### 13. Create a 10x10 array with random values and find the minimum and maximum values (★☆☆) \n",
    "(**hint**: min, max)"
   ]
  },
  {
   "cell_type": "code",
   "execution_count": null,
   "metadata": {
    "id": "6oIVGQUWyBut"
   },
   "outputs": [],
   "source": []
  },
  {
   "cell_type": "markdown",
   "metadata": {
    "id": "02ky4seJyBux"
   },
   "source": [
    "#### 14. Create a random vector of size 30 and find the mean value (★☆☆) \n",
    "(**hint**: mean)"
   ]
  },
  {
   "cell_type": "code",
   "execution_count": null,
   "metadata": {
    "id": "I1dWEkVryBux"
   },
   "outputs": [],
   "source": []
  },
  {
   "cell_type": "markdown",
   "metadata": {
    "id": "QstdWvpWyBu1"
   },
   "source": [
    "#### 15. Create a 2d array with 1 on the border and 0 inside (★☆☆) \n",
    "(**hint**: array\\[1:-1, 1:-1\\])"
   ]
  },
  {
   "cell_type": "code",
   "execution_count": null,
   "metadata": {
    "id": "I6EzKKeXyBu2"
   },
   "outputs": [],
   "source": []
  },
  {
   "cell_type": "markdown",
   "metadata": {
    "id": "iizYnSKjyBu6"
   },
   "source": [
    "#### 16. How to add a border (filled with 0's) around an existing array? (★☆☆) \n",
    "(**hint**: np.pad)"
   ]
  },
  {
   "cell_type": "code",
   "execution_count": null,
   "metadata": {
    "id": "swCs_WFJyBu6"
   },
   "outputs": [],
   "source": []
  },
  {
   "cell_type": "markdown",
   "metadata": {
    "id": "TlKYZodDyBu-"
   },
   "source": [
    "#### 17. What is the result of the following expression? (★☆☆) \n",
    "(**hint**: NaN = not a number, inf = infinity)"
   ]
  },
  {
   "cell_type": "markdown",
   "metadata": {
    "id": "FafnX3hgyBu-"
   },
   "source": [
    "```python\n",
    "0 * np.nan\n",
    "np.nan == np.nan\n",
    "np.inf > np.nan\n",
    "np.nan - np.nan\n",
    "np.nan in set([np.nan])\n",
    "0.3 == 3 * 0.1\n",
    "```"
   ]
  },
  {
   "cell_type": "code",
   "execution_count": null,
   "metadata": {
    "id": "eZYvzDyUyBu_"
   },
   "outputs": [],
   "source": []
  },
  {
   "cell_type": "markdown",
   "metadata": {
    "id": "9eMIMUBkyBvC"
   },
   "source": [
    "#### 18. Create a 5x5 matrix with values 1,2,3,4 just below the diagonal (★☆☆) \n",
    "(**hint**: np.diag)"
   ]
  },
  {
   "cell_type": "code",
   "execution_count": null,
   "metadata": {
    "id": "YMR8zUflyBvC"
   },
   "outputs": [],
   "source": []
  },
  {
   "cell_type": "markdown",
   "metadata": {
    "id": "aob5A9QYyBvF"
   },
   "source": [
    "#### 19. Create a 8x8 matrix and fill it with a checkerboard pattern (★☆☆) \n",
    "(**hint**: array\\[::2\\])"
   ]
  },
  {
   "cell_type": "code",
   "execution_count": null,
   "metadata": {
    "id": "F-EMfwV6yBvG"
   },
   "outputs": [],
   "source": []
  },
  {
   "cell_type": "markdown",
   "metadata": {
    "id": "Cu1sdScNyBvL"
   },
   "source": [
    "#### 20. Consider a (6,7,8) shape array, what is the index (x,y,z) of the 100th element? \n",
    "(**hint**: np.unravel_index)"
   ]
  },
  {
   "cell_type": "code",
   "execution_count": null,
   "metadata": {
    "id": "7mu-sRlYyBvM"
   },
   "outputs": [],
   "source": []
  },
  {
   "cell_type": "markdown",
   "metadata": {
    "id": "UDfI2J5UyBvQ"
   },
   "source": [
    "#### 21. Create a checkerboard 8x8 matrix using the tile function (★☆☆) \n",
    "(**hint**: np.tile)"
   ]
  },
  {
   "cell_type": "code",
   "execution_count": null,
   "metadata": {
    "id": "lym3SjKKyBvQ"
   },
   "outputs": [],
   "source": []
  },
  {
   "cell_type": "markdown",
   "metadata": {
    "id": "vZY-gPdbyBvZ"
   },
   "source": [
    "#### 22. Normalize a 5x5 random matrix (★☆☆) \n",
    "(**hint**: (x - mean) / std)"
   ]
  },
  {
   "cell_type": "code",
   "execution_count": null,
   "metadata": {
    "id": "kdZhix5IyBva"
   },
   "outputs": [],
   "source": []
  },
  {
   "cell_type": "markdown",
   "metadata": {
    "id": "MYNcrtxPyBvf"
   },
   "source": [
    "#### 23. Create a custom dtype that describes a color as four unsigned bytes (RGBA) (★☆☆) \n",
    "(**hint**: np.dtype)"
   ]
  },
  {
   "cell_type": "code",
   "execution_count": null,
   "metadata": {
    "collapsed": true,
    "id": "5pQbizsNyBvg"
   },
   "outputs": [],
   "source": []
  },
  {
   "cell_type": "markdown",
   "metadata": {
    "id": "32Vrj3a1yBvj"
   },
   "source": [
    "#### 24. Multiply a 5x3 matrix by a 3x2 matrix (real matrix product) (★☆☆) \n",
    "(**hint**: np.dot | @)"
   ]
  },
  {
   "cell_type": "code",
   "execution_count": null,
   "metadata": {
    "id": "UDK1bYOkyBvk"
   },
   "outputs": [],
   "source": []
  },
  {
   "cell_type": "markdown",
   "metadata": {
    "id": "a9F-hgyeyBvq"
   },
   "source": [
    "#### 25. Given a 1D array, negate all elements which are between 3 and 8, in place. (★☆☆) \n",
    "(**hint**: >, <=)"
   ]
  },
  {
   "cell_type": "code",
   "execution_count": null,
   "metadata": {
    "id": "jXDJzkklyBvq"
   },
   "outputs": [],
   "source": []
  },
  {
   "cell_type": "markdown",
   "metadata": {
    "id": "dCtKbxLayBvv"
   },
   "source": [
    "#### 26. What is the output of the following script? (★☆☆) \n",
    "(**hint**: np.sum)"
   ]
  },
  {
   "cell_type": "markdown",
   "metadata": {
    "id": "lFsw4-v4yBvw"
   },
   "source": [
    "```python\n",
    "# Author: Jake VanderPlas\n",
    "\n",
    "print(sum(range(5),-1))\n",
    "from numpy import *\n",
    "print(sum(range(5),-1))\n",
    "```"
   ]
  },
  {
   "cell_type": "code",
   "execution_count": null,
   "metadata": {
    "id": "tPMuj5koyBvx"
   },
   "outputs": [],
   "source": []
  },
  {
   "cell_type": "markdown",
   "metadata": {
    "id": "n_fbg4jPyBv1"
   },
   "source": [
    "#### 27. Consider an integer vector Z, which of these expressions are legal? (★☆☆)"
   ]
  },
  {
   "cell_type": "markdown",
   "metadata": {
    "id": "6Q7fFAieyBv2"
   },
   "source": [
    "```python\n",
    "Z**Z\n",
    "2 << Z >> 2\n",
    "Z <- Z\n",
    "1j*Z\n",
    "Z/1/1\n",
    "Z<Z>Z\n",
    "```"
   ]
  },
  {
   "cell_type": "code",
   "execution_count": null,
   "metadata": {
    "id": "53ZAGcKJyBv3"
   },
   "outputs": [],
   "source": []
  },
  {
   "cell_type": "markdown",
   "metadata": {
    "id": "aYeoQgzSyBv7"
   },
   "source": [
    "#### 28. What are the result of the following expressions?"
   ]
  },
  {
   "cell_type": "markdown",
   "metadata": {
    "id": "Tbu6ck92yBv8"
   },
   "source": [
    "```python\n",
    "np.array(0) / np.array(0)\n",
    "np.array(0) // np.array(0)\n",
    "np.array([np.nan]).astype(int).astype(float)\n",
    "```"
   ]
  },
  {
   "cell_type": "code",
   "execution_count": null,
   "metadata": {
    "id": "ihxNppTmyBv9"
   },
   "outputs": [],
   "source": []
  },
  {
   "cell_type": "markdown",
   "metadata": {
    "id": "Pdb_wJbQyBwC"
   },
   "source": [
    "#### 29. How to round away from zero a float array ? (★☆☆) \n",
    "(**hint**: np.uniform, np.copysign, np.ceil, np.abs)"
   ]
  },
  {
   "cell_type": "code",
   "execution_count": null,
   "metadata": {
    "id": "OgfMQ_GLyBwI"
   },
   "outputs": [],
   "source": []
  },
  {
   "cell_type": "markdown",
   "metadata": {
    "id": "yu3wAxknyBwU"
   },
   "source": [
    "#### 30. How to find common values between two arrays? (★☆☆) \n",
    "(**hint**: np.intersect1d)"
   ]
  },
  {
   "cell_type": "code",
   "execution_count": null,
   "metadata": {
    "id": "YGAcPtznyBwV"
   },
   "outputs": [],
   "source": []
  },
  {
   "cell_type": "markdown",
   "metadata": {
    "id": "jlEzjyiIyBwb"
   },
   "source": [
    "#### 31. How to ignore all numpy warnings (not recommended)? (★☆☆) \n",
    "(**hint**: np.seterr, np.errstate)"
   ]
  },
  {
   "cell_type": "code",
   "execution_count": null,
   "metadata": {
    "id": "6qo88v8-yBwc"
   },
   "outputs": [],
   "source": []
  },
  {
   "cell_type": "markdown",
   "metadata": {
    "id": "vzwrKoe9yBwe"
   },
   "source": [
    "#### 32. Is the following expressions true? (★☆☆) \n",
    "(**hint**: imaginary number)"
   ]
  },
  {
   "cell_type": "markdown",
   "metadata": {
    "id": "-dfwtso3yBwf"
   },
   "source": [
    "```python\n",
    "np.sqrt(-1) == np.emath.sqrt(-1)\n",
    "```"
   ]
  },
  {
   "cell_type": "code",
   "execution_count": null,
   "metadata": {
    "id": "i2YAU6GNyBwf"
   },
   "outputs": [],
   "source": []
  },
  {
   "cell_type": "markdown",
   "metadata": {
    "id": "-Ux-62lLyBwi"
   },
   "source": [
    "#### 33. How to get the dates of yesterday, today and tomorrow? (★☆☆) \n",
    "(**hint**: np.datetime64, np.timedelta64)"
   ]
  },
  {
   "cell_type": "code",
   "execution_count": null,
   "metadata": {
    "collapsed": true,
    "id": "RgThillkyBwj"
   },
   "outputs": [],
   "source": []
  },
  {
   "cell_type": "markdown",
   "metadata": {
    "id": "r5jG59hlyBwq"
   },
   "source": [
    "#### 34. How to get all the dates corresponding to the month of July 2016? (★★☆) \n",
    "(**hint**: np.arange(dtype=datetime64\\['D'\\]))"
   ]
  },
  {
   "cell_type": "code",
   "execution_count": null,
   "metadata": {
    "id": "ec4jfca3yBwr"
   },
   "outputs": [],
   "source": []
  },
  {
   "cell_type": "markdown",
   "metadata": {
    "id": "FNS16SrcyBww"
   },
   "source": [
    "#### 35. How to compute ((A+B)\\*(-A/2)) in place (without copy)? (★★☆) \n",
    "(**hint**: np.add(out=), np.negative(out=), np.multiply(out=), np.divide(out=))"
   ]
  },
  {
   "cell_type": "code",
   "execution_count": null,
   "metadata": {
    "id": "SJ-T2dYnyBwy"
   },
   "outputs": [],
   "source": []
  },
  {
   "cell_type": "markdown",
   "metadata": {
    "id": "csPAUmJUyBw3"
   },
   "source": [
    "#### 36. Extract the integer part of a random array using 5 different methods (★★☆) \n",
    "(**hint**: %, np.floor, np.ceil, astype, np.trunc)"
   ]
  },
  {
   "cell_type": "code",
   "execution_count": null,
   "metadata": {
    "id": "30EeuwhjyBw4"
   },
   "outputs": [],
   "source": []
  },
  {
   "cell_type": "markdown",
   "metadata": {
    "id": "2ZuOE4qOyBw6"
   },
   "source": [
    "#### 37. Create a 5x5 matrix with row values ranging from 0 to 4 (★★☆) \n",
    "(**hint**: np.arange)"
   ]
  },
  {
   "cell_type": "code",
   "execution_count": null,
   "metadata": {
    "id": "1v32wA57yBw7"
   },
   "outputs": [],
   "source": []
  },
  {
   "cell_type": "markdown",
   "metadata": {
    "id": "n5fq3J2-yBw_"
   },
   "source": [
    "#### 38. Consider a generator function that generates 10 integers and use it to build an array (★☆☆) \n",
    "(**hint**: np.fromiter)"
   ]
  },
  {
   "cell_type": "code",
   "execution_count": null,
   "metadata": {
    "id": "WCSwBE8cyBw_"
   },
   "outputs": [],
   "source": []
  },
  {
   "cell_type": "markdown",
   "metadata": {
    "id": "HasrE_NnyBxC"
   },
   "source": [
    "#### 39. Create a vector of size 10 with values ranging from 0 to 1, both excluded (★★☆) \n",
    "(**hint**: np.linspace)"
   ]
  },
  {
   "cell_type": "code",
   "execution_count": null,
   "metadata": {
    "id": "c63ZZAG2yBxD"
   },
   "outputs": [],
   "source": []
  },
  {
   "cell_type": "markdown",
   "metadata": {
    "id": "O3T9pZd5yBxR"
   },
   "source": [
    "#### 40. Create a random vector of size 10 and sort it (★★☆) \n",
    "(**hint**: sort)"
   ]
  },
  {
   "cell_type": "code",
   "execution_count": null,
   "metadata": {
    "id": "hwh-WlmnyBxR"
   },
   "outputs": [],
   "source": []
  },
  {
   "cell_type": "markdown",
   "metadata": {
    "id": "kpd04PIOyBxV"
   },
   "source": [
    "#### 41. How to sum a small array faster than np.sum? (★★☆) \n",
    "(**hint**: np.add.reduce)"
   ]
  },
  {
   "cell_type": "code",
   "execution_count": null,
   "metadata": {
    "id": "BybMDAmWyBxV"
   },
   "outputs": [],
   "source": []
  },
  {
   "cell_type": "markdown",
   "metadata": {
    "id": "PZyOdypgyBxY"
   },
   "source": [
    "#### 42. Consider two random array A and B, check if they are equal (★★☆) \n",
    "(**hint**: np.allclose, np.array\\_equal)"
   ]
  },
  {
   "cell_type": "code",
   "execution_count": null,
   "metadata": {
    "id": "HJseE_vpyBxZ"
   },
   "outputs": [],
   "source": []
  },
  {
   "cell_type": "markdown",
   "metadata": {
    "id": "sgdNyL5pyBxb"
   },
   "source": [
    "#### 43. Make an array immutable (read-only) (★★☆) \n",
    "(**hint**: flags.writeable)"
   ]
  },
  {
   "cell_type": "code",
   "execution_count": null,
   "metadata": {
    "id": "DKCKPW13yBxc"
   },
   "outputs": [],
   "source": []
  },
  {
   "cell_type": "markdown",
   "metadata": {
    "id": "ZNYh01bWyBxg"
   },
   "source": [
    "#### 44. Consider a random 10x2 matrix representing cartesian coordinates, convert them to polar coordinates (★★☆) \n",
    "(**hint**: np.sqrt, np.arctan2)"
   ]
  },
  {
   "cell_type": "code",
   "execution_count": null,
   "metadata": {
    "id": "M0pQDiRYyBxh"
   },
   "outputs": [],
   "source": []
  },
  {
   "cell_type": "markdown",
   "metadata": {
    "id": "b_9NAFCsyBxk"
   },
   "source": [
    "#### 45. Create random vector of size 10 and replace the maximum value by 0 (★★☆) \n",
    "(**hint**: argmax)"
   ]
  },
  {
   "cell_type": "code",
   "execution_count": null,
   "metadata": {
    "id": "YMD2UtkIyBxk"
   },
   "outputs": [],
   "source": []
  },
  {
   "cell_type": "markdown",
   "metadata": {
    "id": "t3cYdgFSyBxr"
   },
   "source": [
    "#### 46. Create a structured array with `x` and `y` coordinates covering the \\[0,1\\]x\\[0,1\\] area (★★☆) \n",
    "(**hint**: np.meshgrid)"
   ]
  },
  {
   "cell_type": "code",
   "execution_count": null,
   "metadata": {
    "id": "K0gQg3DKyBxs"
   },
   "outputs": [],
   "source": []
  },
  {
   "cell_type": "markdown",
   "metadata": {
    "id": "MfHMc9QyyBxu"
   },
   "source": [
    "####  47. Given two arrays, X and Y, construct the Cauchy matrix C (Cij =1/(xi - yj)) \n",
    "(**hint**: np.subtract.outer)"
   ]
  },
  {
   "cell_type": "code",
   "execution_count": null,
   "metadata": {
    "id": "1jJHluREyBxv"
   },
   "outputs": [],
   "source": []
  },
  {
   "cell_type": "markdown",
   "metadata": {
    "id": "2WuNQae9yBxx"
   },
   "source": [
    "#### 48. Print the minimum and maximum representable value for each numpy scalar type (★★☆) \n",
    "(**hint**: np.iinfo, np.finfo, eps)"
   ]
  },
  {
   "cell_type": "code",
   "execution_count": null,
   "metadata": {
    "id": "1VamUgaryBxy"
   },
   "outputs": [],
   "source": []
  },
  {
   "cell_type": "markdown",
   "metadata": {
    "id": "rCOoTpcZyBx0"
   },
   "source": [
    "#### 49. How to print all the values of an array? (★★☆) \n",
    "(**hint**: np.set\\_printoptions)"
   ]
  },
  {
   "cell_type": "code",
   "execution_count": null,
   "metadata": {
    "id": "XFEb-pNTyBx0"
   },
   "outputs": [],
   "source": []
  },
  {
   "cell_type": "markdown",
   "metadata": {
    "id": "jvSgTmDeyBx3"
   },
   "source": [
    "#### 50. How to find the closest value (to a given scalar) in a vector? (★★☆) \n",
    "(**hint**: argmin)"
   ]
  },
  {
   "cell_type": "code",
   "execution_count": null,
   "metadata": {
    "id": "x0w8UkpbyBx3"
   },
   "outputs": [],
   "source": []
  },
  {
   "cell_type": "markdown",
   "metadata": {
    "id": "2x5K8ocryBx6"
   },
   "source": [
    "#### 51. Create a structured array representing a position (x,y) and a color (r,g,b) (★★☆) \n",
    "(**hint**: dtype)"
   ]
  },
  {
   "cell_type": "code",
   "execution_count": null,
   "metadata": {
    "id": "Drl9gNilyBx7"
   },
   "outputs": [],
   "source": []
  },
  {
   "cell_type": "markdown",
   "metadata": {
    "id": "KMVjQcnQyBx9"
   },
   "source": [
    "#### 52. Consider a random vector with shape (100,2) representing coordinates, find point by point distances (★★☆) \n",
    "(**hint**: np.atleast\\_2d, T, np.sqrt)"
   ]
  },
  {
   "cell_type": "code",
   "execution_count": null,
   "metadata": {
    "id": "ojqqQ95PyBx-"
   },
   "outputs": [],
   "source": []
  },
  {
   "cell_type": "markdown",
   "metadata": {
    "id": "EFkRcecbyByC"
   },
   "source": [
    "#### 53. How to convert a float (32 bits) array into an integer (32 bits) in place? \n",
    "(**hint**: astype(copy=False))"
   ]
  },
  {
   "cell_type": "code",
   "execution_count": null,
   "metadata": {
    "id": "jB1LvmK_yByC"
   },
   "outputs": [],
   "source": []
  },
  {
   "cell_type": "markdown",
   "metadata": {
    "id": "XduZ_s88yByF"
   },
   "source": [
    "#### 54. How to read the following file? (★★☆) \n",
    "(**hint**: np.genfromtxt)"
   ]
  },
  {
   "cell_type": "markdown",
   "metadata": {
    "id": "v9VWpfs1yByG"
   },
   "source": [
    "```\n",
    "1, 2, 3, 4, 5\n",
    "6,  ,  , 7, 8\n",
    " ,  , 9,10,11\n",
    "```"
   ]
  },
  {
   "cell_type": "code",
   "execution_count": null,
   "metadata": {
    "id": "BVZg_3SOyByH"
   },
   "outputs": [],
   "source": []
  },
  {
   "cell_type": "markdown",
   "metadata": {
    "id": "7hW_KOR0yByK"
   },
   "source": [
    "#### 55. What is the equivalent of enumerate for numpy arrays? (★★☆) \n",
    "(**hint**: np.ndenumerate, np.ndindex)"
   ]
  },
  {
   "cell_type": "code",
   "execution_count": null,
   "metadata": {
    "id": "IT71Xu6fyByK"
   },
   "outputs": [],
   "source": []
  },
  {
   "cell_type": "markdown",
   "metadata": {
    "id": "lz3VwuEryByM"
   },
   "source": [
    "#### 56. Generate a generic 2D Gaussian-like array (★★☆) \n",
    "(**hint**: np.meshgrid, np.exp)"
   ]
  },
  {
   "cell_type": "code",
   "execution_count": null,
   "metadata": {
    "id": "nBUpFAXpyByN"
   },
   "outputs": [],
   "source": []
  },
  {
   "cell_type": "markdown",
   "metadata": {
    "id": "xYsXZ5zjyByP"
   },
   "source": [
    "#### 57. How to randomly place p elements in a 2D array? (★★☆) \n",
    "(**hint**: np.put, np.random.choice)"
   ]
  },
  {
   "cell_type": "code",
   "execution_count": null,
   "metadata": {
    "id": "bJWTnxb7yByQ"
   },
   "outputs": [],
   "source": []
  },
  {
   "cell_type": "markdown",
   "metadata": {
    "id": "QE-03DmUyByS"
   },
   "source": [
    "#### 58. Subtract the mean of each row of a matrix (★★☆) \n",
    "(**hint**: mean(axis=,keepdims=))"
   ]
  },
  {
   "cell_type": "code",
   "execution_count": null,
   "metadata": {
    "id": "25xQy3z7yByT"
   },
   "outputs": [],
   "source": []
  },
  {
   "cell_type": "markdown",
   "metadata": {
    "id": "bzLk4bmjyByU"
   },
   "source": [
    "#### 59. How to sort an array by the nth column? (★★☆) \n",
    "(**hint**: argsort)"
   ]
  },
  {
   "cell_type": "code",
   "execution_count": null,
   "metadata": {
    "id": "vvL3R7nRyByU"
   },
   "outputs": [],
   "source": []
  },
  {
   "cell_type": "markdown",
   "metadata": {
    "id": "J5s53xx8yByZ"
   },
   "source": [
    "#### 60. How to tell if a given 2D array has null columns? (★★☆) \n",
    "(**hint**: any, ~)"
   ]
  },
  {
   "cell_type": "code",
   "execution_count": null,
   "metadata": {
    "id": "phGXoSPtyByZ"
   },
   "outputs": [],
   "source": []
  },
  {
   "cell_type": "markdown",
   "metadata": {
    "id": "3_BPeuh9yByb"
   },
   "source": [
    "#### 61. Find the nearest value from a given value in an array (★★☆) \n",
    "(**hint**: np.abs, argmin, flat)"
   ]
  },
  {
   "cell_type": "code",
   "execution_count": null,
   "metadata": {
    "id": "KX1n2PPHyByc"
   },
   "outputs": [],
   "source": []
  },
  {
   "cell_type": "markdown",
   "metadata": {
    "id": "fOmvdgwmyByd"
   },
   "source": [
    "#### 62. Considering two arrays with shape (1,3) and (3,1), how to compute their sum using an iterator? (★★☆) \n",
    "(**hint**: np.nditer)"
   ]
  },
  {
   "cell_type": "code",
   "execution_count": null,
   "metadata": {
    "id": "uMHvzYZEyBye"
   },
   "outputs": [],
   "source": []
  },
  {
   "cell_type": "markdown",
   "metadata": {
    "id": "H9jPW0g6yByi"
   },
   "source": [
    "#### 63. Create an array class that has a name attribute (★★☆) \n",
    "(**hint**: class method)"
   ]
  },
  {
   "cell_type": "code",
   "execution_count": null,
   "metadata": {
    "id": "Glp0iNlEyByi"
   },
   "outputs": [],
   "source": []
  },
  {
   "cell_type": "markdown",
   "metadata": {
    "id": "dLjKFPJSyByk"
   },
   "source": [
    "#### 64. Consider a given vector, how to add 1 to each element indexed by a second vector (be careful with repeated indices)? (★★★) \n",
    "(**hint**: np.bincount | np.add.at)"
   ]
  },
  {
   "cell_type": "code",
   "execution_count": null,
   "metadata": {
    "id": "PdmSil2QyByl"
   },
   "outputs": [],
   "source": []
  },
  {
   "cell_type": "markdown",
   "metadata": {
    "id": "1f0gyhf3yByn"
   },
   "source": [
    "#### 65. How to accumulate elements of a vector (X) to an array (F) based on an index list (I)? (★★★) \n",
    "(**hint**: np.bincount)"
   ]
  },
  {
   "cell_type": "code",
   "execution_count": null,
   "metadata": {
    "id": "znvdHNM7yByn"
   },
   "outputs": [],
   "source": []
  },
  {
   "cell_type": "markdown",
   "metadata": {
    "id": "ujceD0FRyByp"
   },
   "source": [
    "#### 66. Considering a (w,h,3) image of (dtype=ubyte), compute the number of unique colors (★★★) \n",
    "(**hint**: np.unique)"
   ]
  },
  {
   "cell_type": "code",
   "execution_count": null,
   "metadata": {
    "id": "hEABXYlZyByp"
   },
   "outputs": [],
   "source": []
  },
  {
   "cell_type": "markdown",
   "metadata": {
    "id": "m6ixGQuFyByt"
   },
   "source": [
    "#### 67. Considering a four dimensions array, how to get sum over the last two axis at once? (★★★) \n",
    "(**hint**: sum(axis=(-2,-1)))"
   ]
  },
  {
   "cell_type": "code",
   "execution_count": null,
   "metadata": {
    "id": "69yPjtMMyByu"
   },
   "outputs": [],
   "source": []
  },
  {
   "cell_type": "markdown",
   "metadata": {
    "id": "YYqAtZqlyByz"
   },
   "source": [
    "#### 68. Considering a one-dimensional vector D, how to compute means of subsets of D using a vector S of same size describing subset  indices? (★★★) \n",
    "(**hint**: np.bincount)"
   ]
  },
  {
   "cell_type": "code",
   "execution_count": null,
   "metadata": {
    "id": "X1b9_S56yByz"
   },
   "outputs": [],
   "source": []
  },
  {
   "cell_type": "markdown",
   "metadata": {
    "id": "iXXma0gdyBy2"
   },
   "source": [
    "#### 69. How to get the diagonal of a dot product? (★★★) \n",
    "(**hint**: np.diag)"
   ]
  },
  {
   "cell_type": "code",
   "execution_count": null,
   "metadata": {
    "id": "EIHNHEWlyBy2"
   },
   "outputs": [],
   "source": []
  },
  {
   "cell_type": "markdown",
   "metadata": {
    "id": "67jEqXPdyBy7"
   },
   "source": [
    "#### 70. Consider the vector \\[1, 2, 3, 4, 5\\], how to build a new vector with 3 consecutive zeros interleaved between each value? (★★★) \n",
    "(**hint**: array\\[::4\\])"
   ]
  },
  {
   "cell_type": "code",
   "execution_count": null,
   "metadata": {
    "id": "SEyB_ABIyBy8"
   },
   "outputs": [],
   "source": []
  },
  {
   "cell_type": "markdown",
   "metadata": {
    "id": "3Bm79Sn9yBy-"
   },
   "source": [
    "#### 71. Consider an array of dimension (5,5,3), how to mulitply it by an array with dimensions (5,5)? (★★★) \n",
    "(**hint**: array\\[:, :, None\\])"
   ]
  },
  {
   "cell_type": "code",
   "execution_count": null,
   "metadata": {
    "collapsed": true,
    "id": "hT9OwuWiyBy_"
   },
   "outputs": [],
   "source": []
  },
  {
   "cell_type": "markdown",
   "metadata": {
    "id": "L9wpD9enyBzB"
   },
   "source": [
    "#### 72. How to swap two rows of an array? (★★★) \n",
    "(**hint**: array\\[\\[\\]\\] = array\\[\\[\\]\\])"
   ]
  },
  {
   "cell_type": "code",
   "execution_count": null,
   "metadata": {
    "id": "SRSDIEXgyBzC"
   },
   "outputs": [],
   "source": []
  },
  {
   "cell_type": "markdown",
   "metadata": {
    "id": "WoArNrmCyBzE"
   },
   "source": [
    "#### 73. Consider a set of 10 triplets describing 10 triangles (with shared vertices), find the set of unique line segments composing all the  triangles (★★★) \n",
    "(**hint**: repeat, np.roll, np.sort, view, np.unique)"
   ]
  },
  {
   "cell_type": "code",
   "execution_count": null,
   "metadata": {
    "id": "XFPRLqczyBzF"
   },
   "outputs": [],
   "source": []
  },
  {
   "cell_type": "markdown",
   "metadata": {
    "id": "v3dU17ZXyBzH"
   },
   "source": [
    "#### 74. Given an array C that is a bincount, how to produce an array A such that np.bincount(A) == C? (★★★) \n",
    "(**hint**: np.repeat)"
   ]
  },
  {
   "cell_type": "code",
   "execution_count": null,
   "metadata": {
    "id": "5_A8zMvKyBzH"
   },
   "outputs": [],
   "source": []
  },
  {
   "cell_type": "markdown",
   "metadata": {
    "id": "MMPTPRZYyBzI"
   },
   "source": [
    "#### 75. How to compute averages using a sliding window over an array? (★★★) \n",
    "(**hint**: np.cumsum)"
   ]
  },
  {
   "cell_type": "code",
   "execution_count": null,
   "metadata": {
    "id": "xQcIVclcyBzJ"
   },
   "outputs": [],
   "source": []
  },
  {
   "cell_type": "markdown",
   "metadata": {
    "id": "0SvNgrodyBzK"
   },
   "source": [
    "#### 76. Consider a one-dimensional array Z, build a two-dimensional array whose first row is (Z\\[0\\],Z\\[1\\],Z\\[2\\]) and each subsequent row is  shifted by 1 (last row should be (Z\\[-3\\],Z\\[-2\\],Z\\[-1\\]) (★★★) \n",
    "(**hint**: from numpy.lib import stride_tricks)"
   ]
  },
  {
   "cell_type": "code",
   "execution_count": null,
   "metadata": {
    "id": "jwLq-tudyBzK"
   },
   "outputs": [],
   "source": []
  },
  {
   "cell_type": "markdown",
   "metadata": {
    "id": "S2BFi4zLyBzM"
   },
   "source": [
    "#### 77. How to negate a boolean, or to change the sign of a float inplace? (★★★) \n",
    "(**hint**: np.logical_not, np.negative)"
   ]
  },
  {
   "cell_type": "code",
   "execution_count": null,
   "metadata": {
    "id": "vvwXV25QyBzM"
   },
   "outputs": [],
   "source": []
  },
  {
   "cell_type": "markdown",
   "metadata": {
    "id": "RGsVFF5syBzO"
   },
   "source": [
    "#### 78. Consider 2 sets of points P0,P1 describing lines (2d) and a point p, how to compute distance from p to each line i  (P0\\[i\\],P1\\[i\\])? (★★★)"
   ]
  },
  {
   "cell_type": "code",
   "execution_count": null,
   "metadata": {
    "id": "7Fq70M8SyBzP"
   },
   "outputs": [],
   "source": []
  },
  {
   "cell_type": "markdown",
   "metadata": {
    "id": "bVcthWnEyBzR"
   },
   "source": [
    "#### 79. Consider 2 sets of points P0,P1 describing lines (2d) and a set of points P, how to compute distance from each point j (P\\[j\\]) to each line i (P0\\[i\\],P1\\[i\\])? (★★★)"
   ]
  },
  {
   "cell_type": "code",
   "execution_count": null,
   "metadata": {
    "id": "BbmVdJoryBzS"
   },
   "outputs": [],
   "source": []
  },
  {
   "cell_type": "markdown",
   "metadata": {
    "id": "-V2YUfnJyBzW"
   },
   "source": [
    "#### 80. Consider an arbitrary array, write a function that extract a subpart with a fixed shape and centered on a given element (pad with a `fill` value when necessary) (★★★) \n",
    "(**hint**: minimum, maximum)"
   ]
  },
  {
   "cell_type": "code",
   "execution_count": null,
   "metadata": {
    "id": "oIViSTftyBzW"
   },
   "outputs": [],
   "source": []
  },
  {
   "cell_type": "markdown",
   "metadata": {
    "id": "qsqmeyMvyBzY"
   },
   "source": [
    "#### 81. Consider an array Z = \\[1,2,3,4,5,6,7,8,9,10,11,12,13,14\\], how to generate an array R = \\[\\[1,2,3,4\\], \\[2,3,4,5\\], \\[3,4,5,6\\], ..., \\[11,12,13,14\\]\\]? (★★★) \n",
    "(**hint**: stride\\_tricks.as\\_strided)"
   ]
  },
  {
   "cell_type": "code",
   "execution_count": null,
   "metadata": {
    "id": "YtONdAVSyBzZ"
   },
   "outputs": [],
   "source": []
  },
  {
   "cell_type": "markdown",
   "metadata": {
    "id": "tvUNxgpRyBzc"
   },
   "source": [
    "#### 82. Compute a matrix rank (★★★) \n",
    "(**hint**: np.linalg.svd) (suggestion: np.linalg.svd)"
   ]
  },
  {
   "cell_type": "code",
   "execution_count": null,
   "metadata": {
    "id": "rgc-NQmhyBzd"
   },
   "outputs": [],
   "source": []
  },
  {
   "cell_type": "markdown",
   "metadata": {
    "id": "pjZ2A56gyBzf"
   },
   "source": [
    "#### 83. How to find the most frequent value in an array? \n",
    "(**hint**: np.bincount, argmax)"
   ]
  },
  {
   "cell_type": "code",
   "execution_count": null,
   "metadata": {
    "id": "2cFiGKooyBzf"
   },
   "outputs": [],
   "source": []
  },
  {
   "cell_type": "markdown",
   "metadata": {
    "id": "PMV1gJAnyBzi"
   },
   "source": [
    "#### 84. Extract all the contiguous 3x3 blocks from a random 10x10 matrix (★★★) \n",
    "(**hint**: stride\\_tricks.as\\_strided)"
   ]
  },
  {
   "cell_type": "code",
   "execution_count": null,
   "metadata": {
    "id": "vBSeiBpYyBzi"
   },
   "outputs": [],
   "source": []
  },
  {
   "cell_type": "markdown",
   "metadata": {
    "id": "9qtg1j6RyBzj"
   },
   "source": [
    "#### 85. Create a 2D array subclass such that Z\\[i,j\\] == Z\\[j,i\\] (★★★) \n",
    "(**hint**: class method)"
   ]
  },
  {
   "cell_type": "code",
   "execution_count": null,
   "metadata": {
    "id": "HVROdVXRyBzj"
   },
   "outputs": [],
   "source": []
  },
  {
   "cell_type": "markdown",
   "metadata": {
    "id": "mF2g3UeyyBzl"
   },
   "source": [
    "#### 86. Consider a set of p matrices wich shape (n,n) and a set of p vectors with shape (n,1). How to compute the sum of of the p matrix products at once? (result has shape (n,1)) (★★★) \n",
    "(**hint**: np.tensordot)"
   ]
  },
  {
   "cell_type": "code",
   "execution_count": null,
   "metadata": {
    "id": "ASEoLh-dyBzl"
   },
   "outputs": [],
   "source": []
  },
  {
   "cell_type": "markdown",
   "metadata": {
    "id": "woytZmXsyBzm"
   },
   "source": [
    "#### 87. Consider a 16x16 array, how to get the block-sum (block size is 4x4)? (★★★) \n",
    "(**hint**: np.add.reduceat)"
   ]
  },
  {
   "cell_type": "code",
   "execution_count": null,
   "metadata": {
    "id": "ACV1d3DvyBzn"
   },
   "outputs": [],
   "source": []
  },
  {
   "cell_type": "markdown",
   "metadata": {
    "id": "Bf39FBYfyBzt"
   },
   "source": [
    "#### 88. How to implement the Game of Life using numpy arrays? (★★★)"
   ]
  },
  {
   "cell_type": "code",
   "execution_count": null,
   "metadata": {
    "id": "16YpjuJHyBzt"
   },
   "outputs": [],
   "source": []
  },
  {
   "cell_type": "markdown",
   "metadata": {
    "id": "T7cX3bwLyBzv"
   },
   "source": [
    "#### 89. How to get the n largest values of an array (★★★) \n",
    "(**hint**: np.argsort | np.argpartition)"
   ]
  },
  {
   "cell_type": "code",
   "execution_count": null,
   "metadata": {
    "id": "ShEVwXXByBzv"
   },
   "outputs": [],
   "source": []
  },
  {
   "cell_type": "markdown",
   "metadata": {
    "id": "1OvVb4ANyBzx"
   },
   "source": [
    "#### 90. Given an arbitrary number of vectors, build the cartesian product (every combinations of every item) (★★★) \n",
    "(**hint**: np.indices)"
   ]
  },
  {
   "cell_type": "code",
   "execution_count": null,
   "metadata": {
    "id": "kQXZMuRHyBzx",
    "scrolled": true
   },
   "outputs": [],
   "source": []
  },
  {
   "cell_type": "markdown",
   "metadata": {
    "id": "QWY1qfLkyBzz"
   },
   "source": [
    "#### 91. How to create a record array from a regular array? (★★★) \n",
    "(**hint**: np.core.records.fromarrays)"
   ]
  },
  {
   "cell_type": "code",
   "execution_count": null,
   "metadata": {
    "id": "i1o4KSBCyBzz"
   },
   "outputs": [],
   "source": []
  },
  {
   "cell_type": "markdown",
   "metadata": {
    "id": "-3aU8kNByBz2"
   },
   "source": [
    "#### 92. Consider a large vector Z, compute Z to the power of 3 using 3 different methods (★★★) \n",
    "(**hint**: np.power, \\*, np.einsum)"
   ]
  },
  {
   "cell_type": "code",
   "execution_count": null,
   "metadata": {
    "id": "HQsX8mNZyBz3"
   },
   "outputs": [],
   "source": []
  },
  {
   "cell_type": "markdown",
   "metadata": {
    "id": "71g_BoK4yBz7"
   },
   "source": [
    "#### 93. Consider two arrays A and B of shape (8,3) and (2,2). How to find rows of A that contain elements of each row of B regardless of the order of the elements in B? (★★★) \n",
    "(**hint**: np.where)"
   ]
  },
  {
   "cell_type": "code",
   "execution_count": null,
   "metadata": {
    "id": "vXr5VSctyBz9"
   },
   "outputs": [],
   "source": []
  },
  {
   "cell_type": "markdown",
   "metadata": {
    "id": "B8uA9ebcyBz_"
   },
   "source": [
    "#### 94. Considering a 10x3 matrix, extract rows with unequal values (e.g. \\[2,2,3\\]) (★★★)"
   ]
  },
  {
   "cell_type": "code",
   "execution_count": null,
   "metadata": {
    "id": "7gC5orJxyBz_"
   },
   "outputs": [],
   "source": []
  },
  {
   "cell_type": "markdown",
   "metadata": {
    "id": "w2nudct7yB0B"
   },
   "source": [
    "#### 95. Convert a vector of ints into a matrix binary representation (★★★) \n",
    "(**hint**: np.unpackbits)"
   ]
  },
  {
   "cell_type": "code",
   "execution_count": null,
   "metadata": {
    "id": "bt1zpJPqyB0B"
   },
   "outputs": [],
   "source": []
  },
  {
   "cell_type": "markdown",
   "metadata": {
    "id": "lnQrxtnVyB0D"
   },
   "source": [
    "#### 96. Given a two dimensional array, how to extract unique rows? (★★★) \n",
    "(**hint**: np.ascontiguousarray | np.unique)"
   ]
  },
  {
   "cell_type": "code",
   "execution_count": null,
   "metadata": {
    "id": "rZCl8EwDyB0D"
   },
   "outputs": [],
   "source": []
  },
  {
   "cell_type": "markdown",
   "metadata": {
    "id": "WAqBpAM5yB0E"
   },
   "source": [
    "#### 97. Considering 2 vectors A & B, write the einsum equivalent of inner, outer, sum, and mul function (★★★) \n",
    "(**hint**: np.einsum)"
   ]
  },
  {
   "cell_type": "code",
   "execution_count": null,
   "metadata": {
    "id": "iipji2CEyB0F"
   },
   "outputs": [],
   "source": []
  },
  {
   "cell_type": "markdown",
   "metadata": {
    "id": "6Kf7UjoFyB0G"
   },
   "source": [
    "#### 98. Considering a path described by two vectors (X,Y), how to sample it using equidistant samples (★★★)? \n",
    "(**hint**: np.cumsum, np.interp)"
   ]
  },
  {
   "cell_type": "code",
   "execution_count": null,
   "metadata": {
    "collapsed": true,
    "id": "DsOLAjLYyB0G"
   },
   "outputs": [],
   "source": []
  },
  {
   "cell_type": "markdown",
   "metadata": {
    "id": "NQxUt_nByB0I"
   },
   "source": [
    "#### 99. Given an integer n and a 2D array X, select from X the rows which can be interpreted as draws from a multinomial distribution with n degrees, i.e., the rows which only contain integers and which sum to n. (★★★) \n",
    "(**hint**: np.logical\\_and.reduce, np.mod)"
   ]
  },
  {
   "cell_type": "code",
   "execution_count": null,
   "metadata": {
    "id": "Kd0ysH0AyB0I"
   },
   "outputs": [],
   "source": []
  },
  {
   "cell_type": "markdown",
   "metadata": {
    "id": "GL8VcjdjyB0J"
   },
   "source": [
    "#### 100. Compute bootstrapped 95% confidence intervals for the mean of a 1D array X (i.e., resample the elements of an array with replacement N times, compute the mean of each sample, and then compute percentiles over the means). (★★★) \n",
    "(**hint**: np.percentile)"
   ]
  },
  {
   "cell_type": "code",
   "execution_count": null,
   "metadata": {
    "id": "EqwGUXV2yB0J"
   },
   "outputs": [],
   "source": []
  }
 ],
 "metadata": {
  "colab": {
   "name": "[100_Numpy_challenge] Ejercicios con pistas.ipynb",
   "provenance": []
  },
  "kernelspec": {
   "display_name": "Python 3",
   "language": "python",
   "name": "python3"
  },
  "language_info": {
   "codemirror_mode": {
    "name": "ipython",
    "version": 3
   },
   "file_extension": ".py",
   "mimetype": "text/x-python",
   "name": "python",
   "nbconvert_exporter": "python",
   "pygments_lexer": "ipython3",
   "version": "3.8.3rc1"
  },
  "nbTranslate": {
   "displayLangs": [
    "*"
   ],
   "hotkey": "alt-t",
   "langInMainMenu": true,
   "sourceLang": "en",
   "targetLang": "fr",
   "useGoogleTranslate": true
  },
  "toc": {
   "base_numbering": 1,
   "nav_menu": {},
   "number_sections": true,
   "sideBar": false,
   "skip_h1_title": true,
   "title_cell": "Table of Contents",
   "title_sidebar": "Contents",
   "toc_cell": true,
   "toc_position": {},
   "toc_section_display": true,
   "toc_window_display": false
  }
 },
 "nbformat": 4,
 "nbformat_minor": 1
}
